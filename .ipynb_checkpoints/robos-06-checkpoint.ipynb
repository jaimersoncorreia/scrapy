{
 "cells": [
  {
   "cell_type": "markdown",
   "metadata": {},
   "source": [
    "# Robôs"
   ]
  },
  {
   "cell_type": "markdown",
   "metadata": {},
   "source": [
    "A matriz vai de 0x0 até 10x10"
   ]
  },
  {
   "cell_type": "code",
   "execution_count": 1,
   "metadata": {},
   "outputs": [],
   "source": [
    "class Point(object):\n",
    "    \n",
    "    def __init__(self, x, y):\n",
    "        self.x = x\n",
    "        self.y = y\n",
    "        \n",
    "    def __str__(self):\n",
    "        return '<{}, {}>'.format(self.x, self.y)\n",
    "        \n",
    "class Reward(Point):\n",
    "    def __init__(self,x,y,name):\n",
    "        super(Reward, self).__init__(x, y)\n",
    "        self.name = name    \n",
    "    \n",
    "    def __str__(self):\n",
    "        return '<{}, {}>: {}'.format(self.x, self.y,self.name)\n",
    "    \n",
    "    def __repr__(self):\n",
    "        return '<Reward> {}'.format(self)\n",
    "    \n",
    "class Robot(Point):    \n",
    "        \n",
    "    def move_up(self):\n",
    "        if self.y < 10:\n",
    "            self.y += 1\n",
    "        else:\n",
    "            print('Movimento proibido')\n",
    "        \n",
    "    def move_down(self):\n",
    "        if self.y > 0:\n",
    "            self.y -= 1\n",
    "        else:\n",
    "            print('Movimento proibido')\n",
    "    \n",
    "    def move_right(self):\n",
    "        if self.x < 10:\n",
    "            self.x += 1\n",
    "        else:\n",
    "            print('Movimento proibido')\n",
    "        \n",
    "    def move_left(self):\n",
    "        if self.x > 0:\n",
    "            self.x -= 1\n",
    "        else:\n",
    "            print('Movimento proibido')\n",
    "        \n",
    "    def print_x_y(self):\n",
    "        print('x = {} e y = {}'.format(self.x,self.y))"
   ]
  },
  {
   "cell_type": "code",
   "execution_count": 2,
   "metadata": {},
   "outputs": [],
   "source": [
    "def check_reward(robot, rewards):\n",
    "    ok = False\n",
    "    for reward in rewards:\n",
    "        if reward.x == robot.x and reward.y == robot.y:\n",
    "            print('O robô achou a recompensa: {}'.format(reward.name))\n",
    "            ok = True\n",
    "    return ok"
   ]
  },
  {
   "cell_type": "code",
   "execution_count": 3,
   "metadata": {},
   "outputs": [],
   "source": [
    "import random\n",
    "r1 = Reward(random.randint(1,10),random.randint(1,10),'moeda')\n",
    "r2 = Reward(random.randint(1,10),random.randint(1,10),'gasolina')\n",
    "r3 = Reward(random.randint(1,10),random.randint(1,10),'arma')\n",
    "r4 = Reward(random.randint(1,10),random.randint(1,10),'moeda')\n",
    "r5 = Reward(random.randint(1,10),random.randint(1,10),'gasolina')\n",
    "r6 = Reward(random.randint(1,10),random.randint(1,10),'arma')\n",
    "r7 = Reward(random.randint(1,10),random.randint(1,10),'moeda')\n",
    "r8 = Reward(random.randint(1,10),random.randint(1,10),'gasolina')\n",
    "r9 = Reward(random.randint(1,10),random.randint(1,10),'arma')\n",
    "rewards = [r1, r2, r3, r4, r5, r6, r7, r8, r9]"
   ]
  },
  {
   "cell_type": "code",
   "execution_count": 4,
   "metadata": {},
   "outputs": [],
   "source": [
    "robot = Robot(random.randint(0,10),random.randint(0,10))"
   ]
  },
  {
   "cell_type": "code",
   "execution_count": 6,
   "metadata": {},
   "outputs": [
    {
     "name": "stdout",
     "output_type": "stream",
     "text": [
      "Digite up, down, left ou right left\n",
      "<1, 3>\n",
      "Digite up, down, left ou right left\n",
      "<0, 3>\n",
      "Digite up, down, left ou right up\n",
      "<0, 4>\n",
      "Digite up, down, left ou right up\n",
      "<0, 5>\n",
      "Digite up, down, left ou right up\n",
      "<0, 6>\n",
      "Digite up, down, left ou right up\n",
      "<0, 7>\n",
      "Digite up, down, left ou right up\n",
      "<0, 8>\n",
      "Digite up, down, left ou right up\n",
      "<0, 9>\n",
      "Digite up, down, left ou right up\n",
      "<0, 10>\n",
      "Digite up, down, left ou right right\n",
      "<1, 10>\n",
      "O robô achou a recompensa: moeda\n"
     ]
    }
   ],
   "source": [
    "for i in range(10):\n",
    "    moviment = input('Digite up, down, left ou right ')\n",
    "    if moviment == 'up':\n",
    "        robot.move_up()\n",
    "    elif moviment == 'down':\n",
    "        robot.move_down()\n",
    "    elif moviment == 'left':\n",
    "        robot.move_left()\n",
    "    elif moviment == 'right':\n",
    "        robot.move_right()\n",
    "    else:\n",
    "        print('Movimento Inválido!')\n",
    "        continue\n",
    "    print(robot)\n",
    "    check_reward(robot, rewards)"
   ]
  },
  {
   "cell_type": "code",
   "execution_count": 7,
   "metadata": {},
   "outputs": [
    {
     "data": {
      "text/plain": [
       "[<Reward> <9, 3>: moeda,\n",
       " <Reward> <2, 4>: gasolina,\n",
       " <Reward> <3, 4>: arma,\n",
       " <Reward> <1, 10>: moeda,\n",
       " <Reward> <8, 2>: gasolina,\n",
       " <Reward> <2, 4>: arma,\n",
       " <Reward> <4, 1>: moeda,\n",
       " <Reward> <9, 5>: gasolina,\n",
       " <Reward> <9, 4>: arma]"
      ]
     },
     "execution_count": 7,
     "metadata": {},
     "output_type": "execute_result"
    }
   ],
   "source": [
    "rewards\n"
   ]
  },
  {
   "cell_type": "code",
   "execution_count": null,
   "metadata": {},
   "outputs": [],
   "source": []
  }
 ],
 "metadata": {
  "kernelspec": {
   "display_name": "Python 3",
   "language": "python",
   "name": "python3"
  },
  "language_info": {
   "codemirror_mode": {
    "name": "ipython",
    "version": 3
   },
   "file_extension": ".py",
   "mimetype": "text/x-python",
   "name": "python",
   "nbconvert_exporter": "python",
   "pygments_lexer": "ipython3",
   "version": "3.5.3"
  }
 },
 "nbformat": 4,
 "nbformat_minor": 2
}
