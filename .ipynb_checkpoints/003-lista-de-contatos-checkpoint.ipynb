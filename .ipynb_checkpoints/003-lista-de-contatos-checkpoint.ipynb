{
 "cells": [
  {
   "cell_type": "code",
   "execution_count": 1,
   "metadata": {},
   "outputs": [],
   "source": [
    "def criar_contato():\n",
    "    print('Digite as informações do contato ')\n",
    "    nome = input('Nome: ')\n",
    "    email = input('E-mail: ')\n",
    "    telefone = input('Fone: ')\n",
    "    return nome, email, telefone"
   ]
  },
  {
   "cell_type": "code",
   "execution_count": 4,
   "metadata": {},
   "outputs": [],
   "source": [
    "def salvar_contato(nome, email, telefone):\n",
    "    arquivo = open('contatos.csv', 'wt')\n",
    "    arquivo.write('{},{},{}'.format(nome, email, telefone))\n",
    "    arquivo.flush()\n",
    "    arquivo.close()"
   ]
  },
  {
   "cell_type": "code",
   "execution_count": 5,
   "metadata": {},
   "outputs": [
    {
     "name": "stdout",
     "output_type": "stream",
     "text": [
      "Digite as informações do contato \n",
      "Nome: Jaimerson\n",
      "E-mail: jaimerson@teste.edu\n",
      "Fone: 99 8888-6666\n"
     ]
    }
   ],
   "source": [
    "nome,email,telefone = criar_contato()"
   ]
  },
  {
   "cell_type": "code",
   "execution_count": null,
   "metadata": {},
   "outputs": [],
   "source": []
  }
 ],
 "metadata": {
  "kernelspec": {
   "display_name": "Python 3",
   "language": "python",
   "name": "python3"
  },
  "language_info": {
   "codemirror_mode": {
    "name": "ipython",
    "version": 3
   },
   "file_extension": ".py",
   "mimetype": "text/x-python",
   "name": "python",
   "nbconvert_exporter": "python",
   "pygments_lexer": "ipython3",
   "version": "3.5.3"
  }
 },
 "nbformat": 4,
 "nbformat_minor": 2
}
