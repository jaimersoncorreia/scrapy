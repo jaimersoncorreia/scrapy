{
 "cells": [
  {
   "cell_type": "code",
   "execution_count": 1,
   "metadata": {},
   "outputs": [],
   "source": [
    "def print_valores(*args, **kwargs):\n",
    "    print(args)\n",
    "    print(kwargs)"
   ]
  },
  {
   "cell_type": "code",
   "execution_count": 2,
   "metadata": {},
   "outputs": [],
   "source": [
    "def print_valores2(*posicionais, **nomeados):\n",
    "    print(posicionais)\n",
    "    print(nomeados)"
   ]
  },
  {
   "cell_type": "code",
   "execution_count": 3,
   "metadata": {},
   "outputs": [
    {
     "name": "stdout",
     "output_type": "stream",
     "text": [
      "('teste1', 'teste2')\n",
      "{'parametro': 'teste3'}\n"
     ]
    }
   ],
   "source": [
    "print_valores2('teste1','teste2', parametro='teste3')"
   ]
  },
  {
   "cell_type": "code",
   "execution_count": null,
   "metadata": {},
   "outputs": [],
   "source": []
  },
  {
   "cell_type": "code",
   "execution_count": 4,
   "metadata": {},
   "outputs": [],
   "source": [
    "def criar_contato(*args):\n",
    "    print('Digite as informações do contato ')\n",
    "    info = {}\n",
    "    for arg in args:\n",
    "        info[arg] = input('Digite {}: '.format(arg))\n",
    "    return info"
   ]
  },
  {
   "cell_type": "code",
   "execution_count": 5,
   "metadata": {},
   "outputs": [
    {
     "name": "stdout",
     "output_type": "stream",
     "text": [
      "Digite as informações do contato \n",
      "Digite nome: asdf\n",
      "Digite email: asdf\n",
      "Digite telefone: asdf\n"
     ]
    }
   ],
   "source": [
    "contato = criar_contato('nome', 'email', 'telefone')"
   ]
  },
  {
   "cell_type": "code",
   "execution_count": 6,
   "metadata": {},
   "outputs": [
    {
     "data": {
      "text/plain": [
       "{'email': 'asdf', 'nome': 'asdf', 'telefone': 'asdf'}"
      ]
     },
     "execution_count": 6,
     "metadata": {},
     "output_type": "execute_result"
    }
   ],
   "source": [
    "contato"
   ]
  },
  {
   "cell_type": "code",
   "execution_count": 7,
   "metadata": {},
   "outputs": [],
   "source": [
    "def salvar_contato(**kwargs):\n",
    "    arquivo = open('contatos.csv', 'at')\n",
    "    arquivo.write('\\n{}'.format(','.join(kwargs.values())))\n",
    "    arquivo.flush()\n",
    "    arquivo.close()"
   ]
  },
  {
   "cell_type": "code",
   "execution_count": 8,
   "metadata": {},
   "outputs": [
    {
     "name": "stdout",
     "output_type": "stream",
     "text": [
      "Digite as informações do contato \n",
      "Digite nome: asdfg\n",
      "Digite email: asdfg\n",
      "Digite telefone: asdfg\n"
     ]
    }
   ],
   "source": [
    "info = criar_contato('nome', 'email', 'telefone')"
   ]
  },
  {
   "cell_type": "code",
   "execution_count": 9,
   "metadata": {},
   "outputs": [],
   "source": [
    "\n",
    "salvar_contato(**contato)"
   ]
  },
  {
   "cell_type": "code",
   "execution_count": 10,
   "metadata": {},
   "outputs": [],
   "source": [
    "salvar_contato(**info)"
   ]
  },
  {
   "cell_type": "code",
   "execution_count": 11,
   "metadata": {},
   "outputs": [
    {
     "name": "stdout",
     "output_type": "stream",
     "text": [
      "\n",
      "asdf,asdf,asdf\n",
      "asdfg,asdfg,asdfg\n"
     ]
    }
   ],
   "source": [
    "teste = open('contatos.csv','rt')\n",
    "print(teste.read())\n",
    "teste.close()"
   ]
  },
  {
   "cell_type": "code",
   "execution_count": null,
   "metadata": {},
   "outputs": [],
   "source": []
  }
 ],
 "metadata": {
  "kernelspec": {
   "display_name": "Python 3",
   "language": "python",
   "name": "python3"
  },
  "language_info": {
   "codemirror_mode": {
    "name": "ipython",
    "version": 3
   },
   "file_extension": ".py",
   "mimetype": "text/x-python",
   "name": "python",
   "nbconvert_exporter": "python",
   "pygments_lexer": "ipython3",
   "version": "3.5.3"
  }
 },
 "nbformat": 4,
 "nbformat_minor": 2
}
