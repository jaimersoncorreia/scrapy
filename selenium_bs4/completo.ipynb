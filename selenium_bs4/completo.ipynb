{
 "cells": [
  {
   "cell_type": "code",
   "execution_count": 1,
   "metadata": {},
   "outputs": [],
   "source": [
    "# O modulo time aqui foi utilizado para esperar o carregamento das paginas atraves do firefox\n",
    "import time\n",
    " \n",
    "# o modulo webdriver e necessario para definir qual navegador sera utilizado para fazer a automacao\n",
    "from selenium import webdriver\n",
    "# esse modulo sera utilizado para \n",
    "from bs4 import BeautifulSoup\n",
    "# o modulo Select sera utilizado para interagir com a caixa de selecao onde sera definido o ano em que quero buscar os dados\n",
    "from selenium.webdriver.support.ui import Select\n"
   ]
  },
  {
   "cell_type": "code",
   "execution_count": 2,
   "metadata": {},
   "outputs": [],
   "source": [
    "# Option 1 - with ChromeOptions\n",
    "chrome_options = webdriver.ChromeOptions()\n",
    "chrome_options.add_argument('--headless')\n",
    "chrome_options.add_argument('--no-sandbox') # required when running as root user. otherwise you would get no sandbox errors. \n",
    "\n",
    "\n",
    "# a linha abaixo define qual e o navegador que queremos utilizar, lembrando que eu instalei somente o driver para conexao com o firefox, mas existem tambem para Chrome e InternetExplorer\n",
    "driver = webdriver.Chrome(chrome_options=chrome_options, service_args=['--verbose', '--log-path=chromedriver.log'])\n",
    " \n",
    "# abaixo foi definido qual e o site que quero acessar\n",
    "driver.get(\"http://leideacesso.etransparencia.com.br/itaquaquecetuba.prefeitura.sp/Portal/desktop.html?410\")"
   ]
  },
  {
   "cell_type": "code",
   "execution_count": 3,
   "metadata": {},
   "outputs": [],
   "source": [
    "\n",
    " \n",
    "# o Sleep abaixo e para aguardar o carregamento da pagina\n",
    "time.sleep(15)\n",
    " \n",
    "# Aqui estou buscando o elemento que possui na classe o valor valo01, que e respectivo ao valor da receita onde quero clicar para ir na proxima pagina\n",
    "receita = driver.find_element_by_class_name(\"val01\")\n",
    " \n",
    "# aqui e feito um clique no elemento que foi encontrado acima\n",
    "receita.click()\n",
    " \n",
    "# aguardando o carregamento da pagina\n",
    "time.sleep(10)\n",
    " \n",
    "# agora quero as receitas desde 2013 ate 2017\n",
    "anos = [\"2013\",\"2014\",\"2015\",\"2016\",\"2017\",\"2018\"]"
   ]
  },
  {
   "cell_type": "code",
   "execution_count": 4,
   "metadata": {},
   "outputs": [],
   "source": [
    "for a in anos:\n",
    "    # aqui e utilizado o modulo Select do selenium para interagir com o ComboBox\n",
    "    select = Select(driver.find_element_by_name(\"exe\"))\n",
    " \n",
    "    # aqui e alterado o valor do ComboBox\n",
    "    select.select_by_value(a)\n",
    "    # agora e buscado o elemento cujo o ID e igual a imgFiltrar\n",
    "    filtrar = driver.find_element_by_id('imgFiltrar')\n",
    "    # retornado o elemento da busca e clicado no botao\n",
    "    filtrar.click()\n",
    "    # aguardando o carregamento da tabela\n",
    "    time.sleep(3)\n",
    " \n",
    "    # armazenando a div que possui a tabela dentro da variavel dados\n",
    "    dados = driver.find_element_by_id(\"bd10\")\n",
    " \n",
    "    # aqui e pegado o codigo HTML que esta dentro da div bd01 no codigo que foi mostrado acima\n",
    "    html = dados.get_attribute(\"innerHTML\")\n",
    " \n",
    "    # com o codigo HTML dentro da variavel, vamos usar o BeautifulSoup para fazer o parser desse HTML\n",
    "    soup = BeautifulSoup(html, \"html.parser\")\n",
    " \n",
    "    # dentro da variavel soup temos o codigo html retornado pelo Selenium ja convertido para o BS\n",
    "    # vou utilizar o metodo select_one para buscar o elemento table dentro desse codigo\n",
    "    table = soup.select_one(\"table\")\n",
    " \n",
    "    # no conteudo dessa tabela temos varias virgulas e espacos, como vou converter esses dados pra csv, vou definir o delimitador com o caracter |\n",
    "    # na linha abaixo estou buscando todos os elementos tr, que possui a classe Grid_title e os elementos filhos cujo a tag e td\n",
    "    # e feito um list comprehesion para pegar somente os elementos e eles estao sendo separados pelo caracter |\n",
    " \n",
    "    headers = [header.text+\"|\" for header in table.select(\"tr.Grid_title td\")]\n",
    " \n",
    "    # abaixo estou buscando os elementos tr que possuem a classe Grid_line no css\n",
    "    # e um novo list comprehension para criar uma lista somente com o s elementos que eu quero\n",
    "    line = []\n",
    "    data = [d for d in table.select(\"tr.Grid_line\")]\n",
    "    for d in data:\n",
    "        linha = \"\"\n",
    "        for t in d.select(\"td\"):\n",
    "            linha += t.text+\"|\"\n",
    "        line.append(linha)\n",
    " \n",
    "    # aqui e a mesma coisa que acima porem com a classe Grid_line_even\n",
    "    line_even = []\n",
    "    data = [ d for d in table.select(\"tr.Grid_line_even\")]\n",
    "    for d in data:\n",
    "        linha = \"\"\n",
    "        for t in d.select(\"td\"):\n",
    "            linha += t.text+\"|\"\n",
    "        line_even.append(linha)\n",
    " \n",
    "    # agora que os dados ja foram parseados, vou fazer a escrita do arquivo CSV\n",
    "    with open(\"healess{}.csv\".format(a),\"w\") as f:\n",
    "        s = \"\".join(headers)\n",
    "        f.write(s+\"\\n\")\n",
    " \n",
    "        for l in line:\n",
    "            f.write(l+\"\\n\")\n",
    " \n",
    "        for l in line_even:\n",
    "            f.write(l+\"\\n\")\n",
    " \n",
    "# fim \n"
   ]
  },
  {
   "cell_type": "code",
   "execution_count": 5,
   "metadata": {},
   "outputs": [],
   "source": [
    "time.sleep(0)\n",
    "driver.close()"
   ]
  }
 ],
 "metadata": {
  "kernelspec": {
   "display_name": "Python 3",
   "language": "python",
   "name": "python3"
  },
  "language_info": {
   "codemirror_mode": {
    "name": "ipython",
    "version": 3
   },
   "file_extension": ".py",
   "mimetype": "text/x-python",
   "name": "python",
   "nbconvert_exporter": "python",
   "pygments_lexer": "ipython3",
   "version": "3.5.3"
  }
 },
 "nbformat": 4,
 "nbformat_minor": 2
}
