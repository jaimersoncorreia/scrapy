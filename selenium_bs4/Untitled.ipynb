{
 "cells": [
  {
   "cell_type": "code",
   "execution_count": null,
   "metadata": {},
   "outputs": [],
   "source": []
  },
  {
   "cell_type": "code",
   "execution_count": 36,
   "metadata": {},
   "outputs": [],
   "source": [
    "# O modulo time aqui foi utilizado para esperar o carregamento das paginas atraves do firefox\n",
    "# o modulo webdriver e necessario para definir qual navegador sera utilizado para fazer a automacao\n",
    "# o modulo Select sera utilizado para interagir com a caixa de selecao onde sera definido o ano em que quero buscar os dados\n",
    "# esse modulo sera utilizado para \n",
    "\n",
    "import time\n",
    "from selenium import webdriver\n",
    "from selenium.webdriver.support.ui import Select\n",
    "from bs4 import BeautifulSoup "
   ]
  },
  {
   "cell_type": "markdown",
   "metadata": {},
   "source": [
    "A linha abaixo define qual e o navegador que queremos utilizar, lembrando que eu instalei somente o driver para conexao com o firefox, mas existem tambem para Chrome e InternetExplorer\n",
    "Abaixo foi definido qual e o site que quero acessar"
   ]
  },
  {
   "cell_type": "code",
   "execution_count": 37,
   "metadata": {},
   "outputs": [],
   "source": [
    "driver = webdriver.Chrome()\n",
    "driver.get(\"https://buscapreco.sefaz.am.gov.br/home\")"
   ]
  },
  {
   "cell_type": "code",
   "execution_count": 38,
   "metadata": {},
   "outputs": [],
   "source": [
    "descricao = driver.find_element_by_id(\"descricaoProd\")\n",
    "pesquisar = driver.find_element_by_xpath(\"/html/body/main/div/form/div[2]/div[3]/button\")\n",
    "descricao.send_keys(\"açucar\")\n",
    "pesquisar.click()"
   ]
  },
  {
   "cell_type": "code",
   "execution_count": 56,
   "metadata": {},
   "outputs": [
    {
     "data": {
      "text/plain": [
       "\n",
       "<li class=\"\"><a href=\"1\"><i class=\"material-icons\">fast_rewind</i></a></li>\n",
       "<li class=\"\"><a href=\"/item/grupo/page/9\"><i class=\"material-icons\">chevron_left</i></a></li>\n",
       "<li class=\"waves-effect\"><a href=\"/item/grupo/page/10\">10</a></li>\n",
       "<li class=\"waves-effect\"><a href=\"/item/grupo/page/11\">11</a></li>\n",
       "<li class=\"waves-effect\"><a href=\"/item/grupo/page/12\">12</a></li>\n",
       "<li class=\"waves-effect\"><a href=\"/item/grupo/page/13\">13</a></li>\n",
       "<li class=\"waves-effect\"><a href=\"/item/grupo/page/14\">14</a></li>\n",
       "<li class=\"active grey lighten-4 disabled\"><a href=\"#!\">15</a></li>\n",
       "<li class=\"waves-effect\"><a href=\"/item/grupo/page/16\">16</a></li>\n",
       "<li class=\"waves-effect\"><a href=\"/item/grupo/page/17\">17</a></li>\n",
       "<li class=\"waves-effect\"><a href=\"/item/grupo/page/18\">18</a></li>\n",
       "<li class=\"waves-effect\"><a href=\"/item/grupo/page/19\">19</a></li>\n",
       "<li class=\"waves-effect\"><a href=\"/item/grupo/page/20\">20</a></li>\n",
       "<li class=\"\"><a href=\"/item/grupo/page/21\"><i class=\"material-icons\">chevron_right</i></a></li>\n",
       "<li class=\"\"><a href=\"/item/grupo/page/70\"><i class=\"material-icons\">fast_forward</i></a></li>"
      ]
     },
     "execution_count": 56,
     "metadata": {},
     "output_type": "execute_result"
    }
   ],
   "source": [
    "paginacao = driver.find_element_by_class_name(\"pagination\")\n",
    "html = paginacao.get_attribute(\"innerHTML\")\n",
    "soup = BeautifulSoup(html,\"html.parser\")\n",
    "soup\n"
   ]
  },
  {
   "cell_type": "code",
   "execution_count": 51,
   "metadata": {},
   "outputs": [],
   "source": [
    "def qtde_pag():\n",
    "    teste = driver.find_element_by_xpath(\"/html/body/main/div[3]/div[2]/ul/li[12]\")\n",
    "    teste1 = teste.get_attribute(\"innerHTML\")\n",
    "    teste2 = BeautifulSoup(teste1,\"html.parser\")\n",
    "    link = teste2.find('a')\n",
    "    \n",
    "    return int(link['href'].split('/')[4])"
   ]
  },
  {
   "cell_type": "code",
   "execution_count": 55,
   "metadata": {},
   "outputs": [
    {
     "name": "stdout",
     "output_type": "stream",
     "text": [
      "19\n"
     ]
    }
   ],
   "source": [
    "print(qtde_pag())"
   ]
  },
  {
   "cell_type": "code",
   "execution_count": 48,
   "metadata": {},
   "outputs": [
    {
     "name": "stdout",
     "output_type": "stream",
     "text": [
      "15\n",
      "https://buscapreco.sefaz.am.gov.br/item/grupo/page/1\n",
      "https://buscapreco.sefaz.am.gov.br/item/grupo/page/2\n",
      "https://buscapreco.sefaz.am.gov.br/item/grupo/page/3\n",
      "https://buscapreco.sefaz.am.gov.br/item/grupo/page/4\n",
      "https://buscapreco.sefaz.am.gov.br/item/grupo/page/5\n",
      "https://buscapreco.sefaz.am.gov.br/item/grupo/page/6\n",
      "https://buscapreco.sefaz.am.gov.br/item/grupo/page/7\n",
      "https://buscapreco.sefaz.am.gov.br/item/grupo/page/8\n",
      "https://buscapreco.sefaz.am.gov.br/item/grupo/page/9\n",
      "https://buscapreco.sefaz.am.gov.br/item/grupo/page/10\n",
      "https://buscapreco.sefaz.am.gov.br/item/grupo/page/11\n",
      "https://buscapreco.sefaz.am.gov.br/item/grupo/page/12\n",
      "https://buscapreco.sefaz.am.gov.br/item/grupo/page/13\n",
      "https://buscapreco.sefaz.am.gov.br/item/grupo/page/14\n",
      "https://buscapreco.sefaz.am.gov.br/item/grupo/page/15\n"
     ]
    }
   ],
   "source": [
    "print(qtde_pag())\n",
    "for a in range(1,qtde_pag()+1):\n",
    "    print('https://buscapreco.sefaz.am.gov.br/item/grupo/page/{}'.format(a))\n",
    "    driver.get('https://buscapreco.sefaz.am.gov.br/item/grupo/page/{}'.format(a))\n",
    "    time.sleep(5)"
   ]
  },
  {
   "cell_type": "code",
   "execution_count": 35,
   "metadata": {},
   "outputs": [
    {
     "ename": "WebDriverException",
     "evalue": "Message: invalid session id\n  (Driver info: chromedriver=2.42.591071 (0b695ff80972cc1a65a5cd643186d2ae582cd4ac),platform=Linux 4.9.0-8-amd64 x86_64)\n",
     "output_type": "error",
     "traceback": [
      "\u001b[0;31m---------------------------------------------------------------------------\u001b[0m",
      "\u001b[0;31mWebDriverException\u001b[0m                        Traceback (most recent call last)",
      "\u001b[0;32m<ipython-input-35-ad0c9a213c39>\u001b[0m in \u001b[0;36m<module>\u001b[0;34m()\u001b[0m\n\u001b[0;32m----> 1\u001b[0;31m \u001b[0mdriver\u001b[0m\u001b[0;34m.\u001b[0m\u001b[0mclose\u001b[0m\u001b[0;34m(\u001b[0m\u001b[0;34m)\u001b[0m\u001b[0;34m\u001b[0m\u001b[0m\n\u001b[0m",
      "\u001b[0;32m~/.virtualenvs/scrapy/lib/python3.5/site-packages/selenium/webdriver/remote/webdriver.py\u001b[0m in \u001b[0;36mclose\u001b[0;34m(self)\u001b[0m\n\u001b[1;32m    685\u001b[0m             \u001b[0mdriver\u001b[0m\u001b[0;34m.\u001b[0m\u001b[0mclose\u001b[0m\u001b[0;34m(\u001b[0m\u001b[0;34m)\u001b[0m\u001b[0;34m\u001b[0m\u001b[0m\n\u001b[1;32m    686\u001b[0m         \"\"\"\n\u001b[0;32m--> 687\u001b[0;31m         \u001b[0mself\u001b[0m\u001b[0;34m.\u001b[0m\u001b[0mexecute\u001b[0m\u001b[0;34m(\u001b[0m\u001b[0mCommand\u001b[0m\u001b[0;34m.\u001b[0m\u001b[0mCLOSE\u001b[0m\u001b[0;34m)\u001b[0m\u001b[0;34m\u001b[0m\u001b[0m\n\u001b[0m\u001b[1;32m    688\u001b[0m \u001b[0;34m\u001b[0m\u001b[0m\n\u001b[1;32m    689\u001b[0m     \u001b[0;32mdef\u001b[0m \u001b[0mquit\u001b[0m\u001b[0;34m(\u001b[0m\u001b[0mself\u001b[0m\u001b[0;34m)\u001b[0m\u001b[0;34m:\u001b[0m\u001b[0;34m\u001b[0m\u001b[0m\n",
      "\u001b[0;32m~/.virtualenvs/scrapy/lib/python3.5/site-packages/selenium/webdriver/remote/webdriver.py\u001b[0m in \u001b[0;36mexecute\u001b[0;34m(self, driver_command, params)\u001b[0m\n\u001b[1;32m    318\u001b[0m         \u001b[0mresponse\u001b[0m \u001b[0;34m=\u001b[0m \u001b[0mself\u001b[0m\u001b[0;34m.\u001b[0m\u001b[0mcommand_executor\u001b[0m\u001b[0;34m.\u001b[0m\u001b[0mexecute\u001b[0m\u001b[0;34m(\u001b[0m\u001b[0mdriver_command\u001b[0m\u001b[0;34m,\u001b[0m \u001b[0mparams\u001b[0m\u001b[0;34m)\u001b[0m\u001b[0;34m\u001b[0m\u001b[0m\n\u001b[1;32m    319\u001b[0m         \u001b[0;32mif\u001b[0m \u001b[0mresponse\u001b[0m\u001b[0;34m:\u001b[0m\u001b[0;34m\u001b[0m\u001b[0m\n\u001b[0;32m--> 320\u001b[0;31m             \u001b[0mself\u001b[0m\u001b[0;34m.\u001b[0m\u001b[0merror_handler\u001b[0m\u001b[0;34m.\u001b[0m\u001b[0mcheck_response\u001b[0m\u001b[0;34m(\u001b[0m\u001b[0mresponse\u001b[0m\u001b[0;34m)\u001b[0m\u001b[0;34m\u001b[0m\u001b[0m\n\u001b[0m\u001b[1;32m    321\u001b[0m             response['value'] = self._unwrap_value(\n\u001b[1;32m    322\u001b[0m                 response.get('value', None))\n",
      "\u001b[0;32m~/.virtualenvs/scrapy/lib/python3.5/site-packages/selenium/webdriver/remote/errorhandler.py\u001b[0m in \u001b[0;36mcheck_response\u001b[0;34m(self, response)\u001b[0m\n\u001b[1;32m    240\u001b[0m                 \u001b[0malert_text\u001b[0m \u001b[0;34m=\u001b[0m \u001b[0mvalue\u001b[0m\u001b[0;34m[\u001b[0m\u001b[0;34m'alert'\u001b[0m\u001b[0;34m]\u001b[0m\u001b[0;34m.\u001b[0m\u001b[0mget\u001b[0m\u001b[0;34m(\u001b[0m\u001b[0;34m'text'\u001b[0m\u001b[0;34m)\u001b[0m\u001b[0;34m\u001b[0m\u001b[0m\n\u001b[1;32m    241\u001b[0m             \u001b[0;32mraise\u001b[0m \u001b[0mexception_class\u001b[0m\u001b[0;34m(\u001b[0m\u001b[0mmessage\u001b[0m\u001b[0;34m,\u001b[0m \u001b[0mscreen\u001b[0m\u001b[0;34m,\u001b[0m \u001b[0mstacktrace\u001b[0m\u001b[0;34m,\u001b[0m \u001b[0malert_text\u001b[0m\u001b[0;34m)\u001b[0m\u001b[0;34m\u001b[0m\u001b[0m\n\u001b[0;32m--> 242\u001b[0;31m         \u001b[0;32mraise\u001b[0m \u001b[0mexception_class\u001b[0m\u001b[0;34m(\u001b[0m\u001b[0mmessage\u001b[0m\u001b[0;34m,\u001b[0m \u001b[0mscreen\u001b[0m\u001b[0;34m,\u001b[0m \u001b[0mstacktrace\u001b[0m\u001b[0;34m)\u001b[0m\u001b[0;34m\u001b[0m\u001b[0m\n\u001b[0m\u001b[1;32m    243\u001b[0m \u001b[0;34m\u001b[0m\u001b[0m\n\u001b[1;32m    244\u001b[0m     \u001b[0;32mdef\u001b[0m \u001b[0m_value_or_default\u001b[0m\u001b[0;34m(\u001b[0m\u001b[0mself\u001b[0m\u001b[0;34m,\u001b[0m \u001b[0mobj\u001b[0m\u001b[0;34m,\u001b[0m \u001b[0mkey\u001b[0m\u001b[0;34m,\u001b[0m \u001b[0mdefault\u001b[0m\u001b[0;34m)\u001b[0m\u001b[0;34m:\u001b[0m\u001b[0;34m\u001b[0m\u001b[0m\n",
      "\u001b[0;31mWebDriverException\u001b[0m: Message: invalid session id\n  (Driver info: chromedriver=2.42.591071 (0b695ff80972cc1a65a5cd643186d2ae582cd4ac),platform=Linux 4.9.0-8-amd64 x86_64)\n"
     ]
    }
   ],
   "source": [
    "driver.close()"
   ]
  }
 ],
 "metadata": {
  "kernelspec": {
   "display_name": "Python 3",
   "language": "python",
   "name": "python3"
  },
  "language_info": {
   "codemirror_mode": {
    "name": "ipython",
    "version": 3
   },
   "file_extension": ".py",
   "mimetype": "text/x-python",
   "name": "python",
   "nbconvert_exporter": "python",
   "pygments_lexer": "ipython3",
   "version": "3.5.3"
  }
 },
 "nbformat": 4,
 "nbformat_minor": 2
}
