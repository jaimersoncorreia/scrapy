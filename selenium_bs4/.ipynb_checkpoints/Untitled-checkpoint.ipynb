{
 "cells": [
  {
   "cell_type": "code",
   "execution_count": null,
   "metadata": {},
   "outputs": [],
   "source": []
  },
  {
   "cell_type": "code",
   "execution_count": 1,
   "metadata": {},
   "outputs": [],
   "source": [
    "# O modulo time aqui foi utilizado para esperar o carregamento das paginas atraves do firefox\n",
    "# o modulo webdriver e necessario para definir qual navegador sera utilizado para fazer a automacao\n",
    "# o modulo Select sera utilizado para interagir com a caixa de selecao onde sera definido o ano em que quero buscar os dados\n",
    "# esse modulo sera utilizado para \n",
    "\n",
    "import time\n",
    "from selenium import webdriver\n",
    "from selenium.webdriver.support.ui import Select\n",
    "from bs4 import BeautifulSoup "
   ]
  },
  {
   "cell_type": "markdown",
   "metadata": {},
   "source": [
    "A linha abaixo define qual e o navegador que queremos utilizar, lembrando que eu instalei somente o driver para conexao com o firefox, mas existem tambem para Chrome e InternetExplorer\n",
    "Abaixo foi definido qual e o site que quero acessar"
   ]
  },
  {
   "cell_type": "code",
   "execution_count": 2,
   "metadata": {},
   "outputs": [],
   "source": [
    "driver = webdriver.Chrome()\n",
    "driver.get(\"https://buscapreco.sefaz.am.gov.br/home\")"
   ]
  },
  {
   "cell_type": "code",
   "execution_count": 3,
   "metadata": {},
   "outputs": [],
   "source": [
    "descricao = driver.find_element_by_id(\"descricaoProd\")\n",
    "pesquisar = driver.find_element_by_xpath(\"/html/body/main/div/form/div[2]/div[3]/button\")\n",
    "descricao.send_keys(\"açucar\")\n",
    "pesquisar.click()"
   ]
  },
  {
   "cell_type": "code",
   "execution_count": 4,
   "metadata": {},
   "outputs": [
    {
     "data": {
      "text/plain": [
       "\n",
       "<li class=\"active grey lighten-4 disabled\"><a href=\"#!\">1</a></li>\n",
       "<li class=\"waves-effect\"><a href=\"/item/grupo/page/2\">2</a></li>\n",
       "<li class=\"waves-effect\"><a href=\"/item/grupo/page/3\">3</a></li>\n",
       "<li class=\"waves-effect\"><a href=\"/item/grupo/page/4\">4</a></li>\n",
       "<li class=\"waves-effect\"><a href=\"/item/grupo/page/5\">5</a></li>\n",
       "<li class=\"waves-effect\"><a href=\"/item/grupo/page/6\">6</a></li>\n",
       "<li class=\"waves-effect\"><a href=\"/item/grupo/page/7\">7</a></li>\n",
       "<li class=\"waves-effect\"><a href=\"/item/grupo/page/8\">8</a></li>\n",
       "<li class=\"waves-effect\"><a href=\"/item/grupo/page/9\">9</a></li>\n",
       "<li class=\"waves-effect\"><a href=\"/item/grupo/page/10\">10</a></li>\n",
       "<li class=\"\"><a href=\"/item/grupo/page/11\"><i class=\"material-icons\">chevron_right</i></a></li>\n",
       "<li class=\"\"><a href=\"/item/grupo/page/58\"><i class=\"material-icons\">fast_forward</i></a></li>"
      ]
     },
     "execution_count": 4,
     "metadata": {},
     "output_type": "execute_result"
    }
   ],
   "source": [
    "paginacao = driver.find_element_by_class_name(\"pagination\")\n",
    "html = paginacao.get_attribute(\"innerHTML\")\n",
    "soup = BeautifulSoup(html,\"html.parser\")\n",
    "soup\n"
   ]
  },
  {
   "cell_type": "code",
   "execution_count": 2,
   "metadata": {},
   "outputs": [],
   "source": [
    "def qtde_pag():\n",
    "    teste = driver.find_element_by_xpath(\"/html/body/main/div[3]/div[2]/ul/li[12]\")\n",
    "    teste1 = teste.get_attribute(\"innerHTML\")\n",
    "    teste2 = BeautifulSoup(teste1,\"html.parser\")\n",
    "    link = teste2.find('a')\n",
    "    \n",
    "    return int(link['href'].split('/')[4])"
   ]
  },
  {
   "cell_type": "code",
   "execution_count": 4,
   "metadata": {},
   "outputs": [
    {
     "name": "stdout",
     "output_type": "stream",
     "text": [
      "10\n"
     ]
    }
   ],
   "source": [
    "print(qtde_pag())"
   ]
  },
  {
   "cell_type": "code",
   "execution_count": 6,
   "metadata": {},
   "outputs": [
    {
     "name": "stdout",
     "output_type": "stream",
     "text": [
      "10\n",
      "https://buscapreco.sefaz.am.gov.br/item/grupo/page/1\n",
      "https://buscapreco.sefaz.am.gov.br/item/grupo/page/2\n",
      "https://buscapreco.sefaz.am.gov.br/item/grupo/page/3\n",
      "https://buscapreco.sefaz.am.gov.br/item/grupo/page/4\n",
      "https://buscapreco.sefaz.am.gov.br/item/grupo/page/5\n",
      "https://buscapreco.sefaz.am.gov.br/item/grupo/page/6\n",
      "https://buscapreco.sefaz.am.gov.br/item/grupo/page/7\n",
      "https://buscapreco.sefaz.am.gov.br/item/grupo/page/8\n",
      "https://buscapreco.sefaz.am.gov.br/item/grupo/page/9\n",
      "https://buscapreco.sefaz.am.gov.br/item/grupo/page/10\n"
     ]
    }
   ],
   "source": [
    "print(qtde_pag())\n",
    "for a in range(qtde_pag()):\n",
    "    print('https://buscapreco.sefaz.am.gov.br/item/grupo/page/{}'.format(a + 1))\n",
    "    driver.get('https://buscapreco.sefaz.am.gov.br/item/grupo/page/{}'.format(a + 1))\n",
    "    time.sleep(5)"
   ]
  },
  {
   "cell_type": "code",
   "execution_count": 8,
   "metadata": {},
   "outputs": [],
   "source": [
    "driver.close()"
   ]
  }
 ],
 "metadata": {
  "kernelspec": {
   "display_name": "Python 3",
   "language": "python",
   "name": "python3"
  },
  "language_info": {
   "codemirror_mode": {
    "name": "ipython",
    "version": 3
   },
   "file_extension": ".py",
   "mimetype": "text/x-python",
   "name": "python",
   "nbconvert_exporter": "python",
   "pygments_lexer": "ipython3",
   "version": "3.5.3"
  }
 },
 "nbformat": 4,
 "nbformat_minor": 2
}
