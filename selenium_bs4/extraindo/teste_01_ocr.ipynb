{
 "cells": [
  {
   "cell_type": "code",
   "execution_count": 3,
   "metadata": {},
   "outputs": [],
   "source": [
    "from PIL import Image # Importando o módulo Pillow para abrir a imagem no script\n",
    "\n",
    "import pytesseract # Módulo para a utilização da tecnologia OCR\n",
    "\n",
    "\n",
    "from pdf2image import convert_from_path\n",
    "pages = convert_from_path('2015_06_dep_francisco_gomes.pdf',600)\n",
    "for page in pages:\n",
    "    page.save('2015_01_dep_adjuto_afonso.jpg','JPEG')"
   ]
  },
  {
   "cell_type": "code",
   "execution_count": 5,
   "metadata": {},
   "outputs": [
    {
     "name": "stdout",
     "output_type": "stream",
     "text": [
      "Gilleros mais mmo siﬂaml d: mnh'ole social\n",
      "\n",
      "Osgénaressae atividads disculsivas social-name astabilizadas qua se praslam aes mais variados\n",
      "tipas de cantmle social a alé mam ae exercicio de poder. Peeasa, pais, dizer qua es génems textuais\n",
      ":70 mass remia de insargse, 3950 a eeneela social ne dia a dia. Teea a qualquar atividade discurs‘va\n",
      "sa ea em algum génare qua n50 é deddida ad hot; came jé lembrava Bakhlin ([1953] 1979) am sell\n",
      "célehle ansaie some es génems do discurso. Dal' também a imam pluralidade de ganares a sell\n",
      "earalaresanealmanla museum. Osganares :70 também \"'05 para a interloculﬁa hulnana.\n",
      "\n",
      "Um simplas sample pnde dara eimansae disso: mmemosa a ‘ ade dinrsiva na Vida amdénia:\n",
      "quam cenlmla a dentiﬁddade am nesse trahalha investigative a \"'0? Em baa median, 05 ganares par\n",
      "nlis produzidos déo, pelo manes em uma pn'lneira mama, lagiumieaea ae nesse disauisq. Massa\n",
      "pammeamgammsmmmmaszssmamgsmﬁmsmmasm\n",
      "etc, asumem um grande prase'gie, a ponla de legitimalem a até imparem determinada remia de mar\n",
      "aiama a decidir e qua é dentiﬁcn. E eem anaga—sa inclusiva a ideia de qua nil: in ciénda os\n",
      "diseuisqs pmduzidas fnra de um certa linen de ganams da érea ameam'\n",
      "\n",
      "Assam, pedanes dizer qua e cantrale social pelos génems discursivas é ncrmtomével, mas n50\n",
      "data sla. Phrum lada, a mmﬁntim ideia daquasemesliwasaeaqualamesam miss maesmde\n",
      "e sistama decisario é uma quimaia, ja qua aslames imaisqs numa sqciadaea qua ms molda see varies\n",
      "aspecms a nes canduz a determinadas 3935. Per autm lado, q génem textual nae cria relagﬁs\n",
      "dalanninislas nem perpetua Ielagl’is, apanas manirasla-as em aanas eendieas de suas ralizagl’is.\n",
      "Dania qua msaenslimlmes comoseres seeiais msadlamos amelviees nulna ma'quina sededismrsiva.\n",
      "E um dos instrumenlas lnais podemsos desa maeuina sae es ganares iaxtuais, same qua de sell\n",
      "dominio a manipulagin depende boa pana da farlna de rlosa insauﬁe social a de nessq pnder social.\n",
      "Enﬁm: quam pode expedir um diploma, ulna mails de lemmaea um alvara' desolmra, uma oem'dSa\n",
      "qaaagmanm, um portedeamla, asaavaruma reponagemjon'lall'sﬁa, ulna lsededmmdo, dar\n",
      "uma mrlferéna'a, uma aula emas‘n‘va, realizar um mquammi‘eala assim par diante?\n",
      "\n",
      "(mmmll. L A. W mat, ana'nsam eaimammaissla. §n mule: mama Eﬂinnal, 2mg, p.161-162)\n"
     ]
    }
   ],
   "source": [
    "#print( pytesseract.image_to_string( Image.open('nome_da_imagem.jpg') ) ) # Extraindo o texto da imagem\n",
    "#imagem = Image.open('2015_01_dep_adjuto_afonso.jpg')\n",
    "imagem = Image.open('texto2016Unicentro.png')\n",
    "print(pytesseract.image_to_string(imagem)) # Extraindo o texto da imagem"
   ]
  },
  {
   "cell_type": "code",
   "execution_count": null,
   "metadata": {},
   "outputs": [],
   "source": []
  },
  {
   "cell_type": "code",
   "execution_count": null,
   "metadata": {},
   "outputs": [],
   "source": []
  },
  {
   "cell_type": "code",
   "execution_count": null,
   "metadata": {},
   "outputs": [],
   "source": []
  },
  {
   "cell_type": "code",
   "execution_count": null,
   "metadata": {},
   "outputs": [],
   "source": []
  }
 ],
 "metadata": {
  "kernelspec": {
   "display_name": "Python 3",
   "language": "python",
   "name": "python3"
  },
  "language_info": {
   "codemirror_mode": {
    "name": "ipython",
    "version": 3
   },
   "file_extension": ".py",
   "mimetype": "text/x-python",
   "name": "python",
   "nbconvert_exporter": "python",
   "pygments_lexer": "ipython3",
   "version": "3.5.3"
  }
 },
 "nbformat": 4,
 "nbformat_minor": 2
}
