{
 "cells": [
  {
   "cell_type": "code",
   "execution_count": 1,
   "metadata": {},
   "outputs": [],
   "source": [
    "# O modulo time aqui foi utilizado para esperar o carregamento das paginas atraves do firefox\n",
    "import time\n",
    " \n",
    "# o modulo webdriver e necessario para definir qual navegador sera utilizado para fazer a automacao\n",
    "from selenium import webdriver\n",
    " \n",
    "# o modulo Select sera utilizado para interagir com a caixa de selecao onde sera definido o ano em que quero buscar os dados\n",
    "from selenium.webdriver.support.ui import Select\n",
    " \n",
    "# esse modulo sera utilizado para \n",
    "from bs4 import BeautifulSoup\n",
    " \n",
    "# a linha abaixo define qual e o navegador que queremos utilizar,\n",
    "# lembrando que eu instalei somente o driver para conexao com o firefox,\n",
    "#mas existem tambem para Chrome e InternetExplorer\n",
    "driver = webdriver.Firefox()\n",
    " \n",
    "# abaixo foi definido qual e o site que quero acessar\n",
    "driver.get(\"http://www.ale.am.gov.br/tipos-publicacoes/prestacao-contas/\")\n",
    " \n",
    "# o Sleep abaixo e para aguardar o carregamento da pagina\n",
    "time.sleep(20)\n",
    " \n"
   ]
  },
  {
   "cell_type": "code",
   "execution_count": 2,
   "metadata": {},
   "outputs": [],
   "source": [
    "# agora quero as receitas desde 2013 ate 2017\n",
    "anos = [\"2012\",\"2013\",\"2014\",\"2015\",\"2016\",\"2017\",\"2018\"]"
   ]
  },
  {
   "cell_type": "code",
   "execution_count": 3,
   "metadata": {},
   "outputs": [],
   "source": [
    "select_ano = Select(driver.find_element_by_xpath('//*[@id=\"main\"]/div[2]/form/div[1]/div/select'))\n",
    "select_ano.select_by_value(anos[3])\n",
    "time.sleep(5)\n",
    "consultar = driver.find_element_by_id(\"btn_submit\")\n",
    "consultar.click()\n",
    "time.sleep(20)\n",
    "dados = driver.find_element_by_xpath('//*[@id=\"main\"]/div[3]')"
   ]
  },
  {
   "cell_type": "code",
   "execution_count": 4,
   "metadata": {},
   "outputs": [
    {
     "data": {
      "text/plain": [
       "['Nome|', 'Ano|', 'Mês|']"
      ]
     },
     "execution_count": 4,
     "metadata": {},
     "output_type": "execute_result"
    }
   ],
   "source": [
    "html = dados.get_attribute(\"innerHTML\")\n",
    "soup = BeautifulSoup(html, \"html.parser\")\n",
    "table = soup.select_one('table')\n",
    "headers = [header.text+\"|\" for header in table.select(\"tr th\")]\n",
    "headers"
   ]
  },
  {
   "cell_type": "code",
   "execution_count": 5,
   "metadata": {},
   "outputs": [
    {
     "data": {
      "text/plain": [
       "['',\n",
       " 'http://www.ale.am.gov.br/wp-content/uploads/2015/08/CEAP-ACUMULADA-JULHO-2015-AT.pdf|Acumuladas|2015|Julho|',\n",
       " 'http://www.ale.am.gov.br/wp-content/uploads/2015/08/Abdala.pdf|Dep. Abdala Fraxe|2015|Julho|',\n",
       " 'http://www.ale.am.gov.br/wp-content/uploads/2015/08/adjuto2.pdf|Dep. Adjuto Afonso|2015|Julho|',\n",
       " 'http://www.ale.am.gov.br/wp-content/uploads/2015/08/cabo-maciel2.pdf|Dep. Alcimar Maciel|2015|Julho|',\n",
       " 'http://www.ale.am.gov.br/wp-content/uploads/2015/08/alessandra-2.pdf|Dep. Alessandra Campêlo|2015|Julho|',\n",
       " 'http://www.ale.am.gov.br/wp-content/uploads/2015/08/ferraz.pdf|Dep. Augusto Ferraz|2015|Julho|',\n",
       " 'http://www.ale.am.gov.br/wp-content/uploads/2015/08/belarmino2.pdf|Dep. Belarmino Lins|2015|Julho|',\n",
       " 'http://www.ale.am.gov.br/wp-content/uploads/2015/08/Bi-garcia.pdf|Dep. Bi Garcia|2015|Julho|',\n",
       " 'http://www.ale.am.gov.br/wp-content/uploads/2015/08/bosco.pdf|Dep. Bosco Saraiva|2015|Julho|',\n",
       " 'http://www.ale.am.gov.br/wp-content/uploads/2015/08/carlos-alberto2.pdf|Dep. Carlos Alberto|2015|Julho|',\n",
       " 'http://www.ale.am.gov.br/wp-content/uploads/2015/08/david.pdf|Dep. David Almeida|2015|Julho|',\n",
       " 'http://www.ale.am.gov.br/wp-content/uploads/2015/08/dermilson2.pdf|Dep. Dermilson Chagas|2015|Julho|',\n",
       " 'http://www.ale.am.gov.br/wp-content/uploads/2015/08/Gomes1.pdf|Dep. Francisco Gomes|2015|Julho|',\n",
       " 'http://www.ale.am.gov.br/wp-content/uploads/2015/08/francisco-souza2.pdf|Dep. Francisco Souza|2015|Julho|',\n",
       " 'http://www.ale.am.gov.br/wp-content/uploads/2015/08/jose-ricardo.pdf|Dep. José Ricardo|2015|Julho|',\n",
       " 'http://www.ale.am.gov.br/wp-content/uploads/2015/08/neto.pdf|Dep. Josué Neto|2015|Julho|',\n",
       " 'http://www.ale.am.gov.br/wp-content/uploads/2015/08/luiz-castro.pdf|Dep. Luiz Castro|2015|Julho|',\n",
       " 'http://www.ale.am.gov.br/wp-content/uploads/2015/08/orlando-cidade.pdf|Dep. Orlando Cidade|2015|Julho|',\n",
       " 'http://www.ale.am.gov.br/wp-content/uploads/2015/08/platiny.pdf|Dep. Platiny Soares|2015|Julho|',\n",
       " 'http://www.ale.am.gov.br/wp-content/uploads/2015/08/ricardo-nicolau.pdf|Dep. Ricardo Nicolau|2015|Julho|',\n",
       " 'http://www.ale.am.gov.br/wp-content/uploads/2015/08/saba-reis.pdf|Dep. Sabá Reis|2015|Julho|',\n",
       " 'http://www.ale.am.gov.br/wp-content/uploads/2015/08/serafim.pdf|Dep. Serafim Corrêa|2015|Julho|',\n",
       " 'http://www.ale.am.gov.br/wp-content/uploads/2015/08/sinesio.pdf|Dep. Sinésio Campos|2015|Julho|',\n",
       " 'http://www.ale.am.gov.br/wp-content/uploads/2015/08/vic-ente.pdf|Dep. Vicente Lopes|2015|Julho|',\n",
       " 'http://www.ale.am.gov.br/wp-content/uploads/2015/08/dallas.pdf|Dep. Wanderley Dallas|2015|Julho|']"
      ]
     },
     "execution_count": 5,
     "metadata": {},
     "output_type": "execute_result"
    }
   ],
   "source": [
    "\n",
    "#article.find('iframe', class_='youtube-player')['src']\n",
    "\n",
    "line = []\n",
    "data = [d for d in table.select(\"tr\")]\n",
    "for d in data:\n",
    "    linha = \"\"\n",
    "    for t in d.select(\"td\"):\n",
    "        link = t.find('a')\n",
    "        if link != None:\n",
    "            #print(link['href'])\n",
    "            #print(link.get('ng-href'))\n",
    "            linha += '{}|'.format(link['href'])\n",
    "        \n",
    "        linha += t.text+\"|\"\n",
    "    line.append(linha)\n",
    "line"
   ]
  },
  {
   "cell_type": "code",
   "execution_count": 6,
   "metadata": {},
   "outputs": [
    {
     "data": {
      "text/plain": [
       "'\\n\\nfor a in anos:\\n    # aqui e utilizado o modulo Select do selenium para interagir com o ComboBox\\n    select = Select(driver.find_element_by_name(\"exe\"))\\n \\n    # aqui e alterado o valor do ComboBox\\n    select.select_by_value(a)\\n    # agora e buscado o elemento cujo o ID e igual a imgFiltrar\\n    filtrar = driver.find_element_by_id(\\'imgFiltrar\\')\\n    # retornado o elemento da busca e clicado no botao\\n    filtrar.click()\\n    # aguardando o carregamento da tabela\\n    time.sleep(3)\\n \\n    # armazenando a div que possui a tabela dentro da variavel dados\\n    dados = driver.find_element_by_id(\"bd10\")\\n \\n    # aqui e pegado o codigo HTML que esta dentro da div bd01 no codigo que foi mostrado acima\\n    html = dados.get_attribute(\"innerHTML\")\\n \\n    # com o codigo HTML dentro da variavel, vamos usar o BeautifulSoup para fazer o parser desse HTML\\n    soup = BeautifulSoup(html, \"html.parser\")\\n \\n    # dentro da variavel soup temos o codigo html retornado pelo Selenium ja convertido para o BS\\n    # vou utilizar o metodo select_one para buscar o elemento table dentro desse codigo\\n    table = soup.select_one(\"table\")\\n \\n    # no conteudo dessa tabela temos varias virgulas e espacos, como vou converter esses dados pra csv, vou definir o delimitador com o caracter |\\n    # na linha abaixo estou buscando todos os elementos tr, que possui a classe Grid_title e os elementos filhos cujo a tag e td\\n    # e feito um list comprehesion para pegar somente os elementos e eles estao sendo separados pelo caracter |\\n \\n    headers = [header.text+\"|\" for header in table.select(\"tr.Grid_title td\")]\\n \\n    # abaixo estou buscando os elementos tr que possuem a classe Grid_line no css\\n    # e um novo list comprehension para criar uma lista somente com o s elementos que eu quero\\n    line = []\\n    data = [d for d in table.select(\"tr.Grid_line\")]\\n    for d in data:\\n        linha = \"\"\\n        for t in d.select(\"td\"):\\n            linha += t.text+\"|\"\\n        line.append(linha)\\n \\n    # aqui e a mesma coisa que acima porem com a classe Grid_line_even\\n    line_even = []\\n    data = [ d for d in table.select(\"tr.Grid_line_even\")]\\n    for d in data:\\n        linha = \"\"\\n        for t in d.select(\"td\"):\\n            linha += t.text+\"|\"\\n        line_even.append(linha)\\n \\n    # agora que os dados ja foram parseados, vou fazer a escrita do arquivo CSV\\n    with open(\"%s.csv\"%a,\"w\") as f:\\n        s = \"\".join(headers)\\n        f.write(s+\"\\n\")\\n \\n        for l in line:\\n            f.write(l+\"\\n\")\\n \\n        for l in line_even:\\n            f.write(l+\"\\n\")\\n            \\n            \\n            \\n'"
      ]
     },
     "execution_count": 6,
     "metadata": {},
     "output_type": "execute_result"
    }
   ],
   "source": [
    "'''\n",
    "\n",
    "for a in anos:\n",
    "    # aqui e utilizado o modulo Select do selenium para interagir com o ComboBox\n",
    "    select = Select(driver.find_element_by_name(\"exe\"))\n",
    " \n",
    "    # aqui e alterado o valor do ComboBox\n",
    "    select.select_by_value(a)\n",
    "    # agora e buscado o elemento cujo o ID e igual a imgFiltrar\n",
    "    filtrar = driver.find_element_by_id('imgFiltrar')\n",
    "    # retornado o elemento da busca e clicado no botao\n",
    "    filtrar.click()\n",
    "    # aguardando o carregamento da tabela\n",
    "    time.sleep(3)\n",
    " \n",
    "    # armazenando a div que possui a tabela dentro da variavel dados\n",
    "    dados = driver.find_element_by_id(\"bd10\")\n",
    " \n",
    "    # aqui e pegado o codigo HTML que esta dentro da div bd01 no codigo que foi mostrado acima\n",
    "    html = dados.get_attribute(\"innerHTML\")\n",
    " \n",
    "    # com o codigo HTML dentro da variavel, vamos usar o BeautifulSoup para fazer o parser desse HTML\n",
    "    soup = BeautifulSoup(html, \"html.parser\")\n",
    " \n",
    "    # dentro da variavel soup temos o codigo html retornado pelo Selenium ja convertido para o BS\n",
    "    # vou utilizar o metodo select_one para buscar o elemento table dentro desse codigo\n",
    "    table = soup.select_one(\"table\")\n",
    " \n",
    "    # no conteudo dessa tabela temos varias virgulas e espacos, como vou converter esses dados pra csv, vou definir o delimitador com o caracter |\n",
    "    # na linha abaixo estou buscando todos os elementos tr, que possui a classe Grid_title e os elementos filhos cujo a tag e td\n",
    "    # e feito um list comprehesion para pegar somente os elementos e eles estao sendo separados pelo caracter |\n",
    " \n",
    "    headers = [header.text+\"|\" for header in table.select(\"tr.Grid_title td\")]\n",
    " \n",
    "    # abaixo estou buscando os elementos tr que possuem a classe Grid_line no css\n",
    "    # e um novo list comprehension para criar uma lista somente com o s elementos que eu quero\n",
    "    line = []\n",
    "    data = [d for d in table.select(\"tr.Grid_line\")]\n",
    "    for d in data:\n",
    "        linha = \"\"\n",
    "        for t in d.select(\"td\"):\n",
    "            linha += t.text+\"|\"\n",
    "        line.append(linha)\n",
    " \n",
    "    # aqui e a mesma coisa que acima porem com a classe Grid_line_even\n",
    "    line_even = []\n",
    "    data = [ d for d in table.select(\"tr.Grid_line_even\")]\n",
    "    for d in data:\n",
    "        linha = \"\"\n",
    "        for t in d.select(\"td\"):\n",
    "            linha += t.text+\"|\"\n",
    "        line_even.append(linha)\n",
    " \n",
    "    # agora que os dados ja foram parseados, vou fazer a escrita do arquivo CSV\n",
    "    with open(\"%s.csv\"%a,\"w\") as f:\n",
    "        s = \"\".join(headers)\n",
    "        f.write(s+\"\\n\")\n",
    " \n",
    "        for l in line:\n",
    "            f.write(l+\"\\n\")\n",
    " \n",
    "        for l in line_even:\n",
    "            f.write(l+\"\\n\")\n",
    "            \n",
    "            \n",
    "            \n",
    "'''"
   ]
  },
  {
   "cell_type": "code",
   "execution_count": 7,
   "metadata": {},
   "outputs": [],
   "source": [
    "# fim \n",
    "time.sleep(10)\n",
    "driver.close()"
   ]
  }
 ],
 "metadata": {
  "kernelspec": {
   "display_name": "Python 3",
   "language": "python",
   "name": "python3"
  },
  "language_info": {
   "codemirror_mode": {
    "name": "ipython",
    "version": 3
   },
   "file_extension": ".py",
   "mimetype": "text/x-python",
   "name": "python",
   "nbconvert_exporter": "python",
   "pygments_lexer": "ipython3",
   "version": "3.5.3"
  }
 },
 "nbformat": 4,
 "nbformat_minor": 2
}
