{
 "cells": [
  {
   "cell_type": "code",
   "execution_count": 1,
   "metadata": {},
   "outputs": [],
   "source": [
    "import requests\n",
    "import csv"
   ]
  },
  {
   "cell_type": "markdown",
   "metadata": {},
   "source": [
    "Os PDFs serão gravados no diretório \"../../../pdf_aleam\""
   ]
  },
  {
   "cell_type": "code",
   "execution_count": 2,
   "metadata": {},
   "outputs": [],
   "source": [
    "def baixar_pdf(url,nome_arquivo):\n",
    "    r = requests.get(url)\n",
    "    #with open('../../../pdf_aleam/{}.pdf'.format(nome_arquivo), 'wb') as fd:\n",
    "    with open('../pdf_aleam/{}.pdf'.format(nome_arquivo), 'wb') as fd:\n",
    "        fd.write(r.content)"
   ]
  },
  {
   "cell_type": "code",
   "execution_count": 3,
   "metadata": {},
   "outputs": [],
   "source": [
    "def mes_num(mes):\n",
    "    m = {'janeiro': '01',\n",
    "         'fevereiro': '02',\n",
    "         'março':'03',\n",
    "         'abril':'04',\n",
    "         'maio':'05',\n",
    "         'junho':'06',\n",
    "         'julho':'07',\n",
    "         'agosto':'08',\n",
    "         'setembro':'09',\n",
    "         'outubro':'10',\n",
    "         'novembro':'11',\n",
    "         'dezembro':'12'}\n",
    "    return m[mes]"
   ]
  },
  {
   "cell_type": "code",
   "execution_count": 4,
   "metadata": {},
   "outputs": [],
   "source": [
    "def gerar_nome(linha):\n",
    "    nome = linha[0].lower()\n",
    "    nome = nome.replace('. ','_')\n",
    "    nome = nome.replace('.','_')\n",
    "    nome = nome.replace(' ','_')\n",
    "    ano = linha[2]\n",
    "    mes = mes_num(linha[3].lower())\n",
    "    return '{}_{}_{}'.format(ano,mes,nome)\n"
   ]
  },
  {
   "cell_type": "code",
   "execution_count": 1,
   "metadata": {},
   "outputs": [
    {
     "ename": "NameError",
     "evalue": "name 'csv' is not defined",
     "output_type": "error",
     "traceback": [
      "\u001b[0;31m---------------------------------------------------------------------------\u001b[0m",
      "\u001b[0;31mNameError\u001b[0m                                 Traceback (most recent call last)",
      "\u001b[0;32m<ipython-input-1-bd2fe34923b3>\u001b[0m in \u001b[0;36m<module>\u001b[0;34m()\u001b[0m\n\u001b[1;32m      2\u001b[0m \u001b[0;32mfor\u001b[0m \u001b[0mano\u001b[0m \u001b[0;32min\u001b[0m \u001b[0manos\u001b[0m\u001b[0;34m:\u001b[0m\u001b[0;34m\u001b[0m\u001b[0m\n\u001b[1;32m      3\u001b[0m     \u001b[0;32mwith\u001b[0m \u001b[0mopen\u001b[0m\u001b[0;34m(\u001b[0m\u001b[0;34m'../{}.csv'\u001b[0m\u001b[0;34m.\u001b[0m\u001b[0mformat\u001b[0m\u001b[0;34m(\u001b[0m\u001b[0mano\u001b[0m\u001b[0;34m)\u001b[0m\u001b[0;34m,\u001b[0m \u001b[0;34m'rt'\u001b[0m\u001b[0;34m)\u001b[0m \u001b[0;32mas\u001b[0m \u001b[0mficheiro\u001b[0m\u001b[0;34m:\u001b[0m\u001b[0;34m\u001b[0m\u001b[0m\n\u001b[0;32m----> 4\u001b[0;31m         \u001b[0mreader\u001b[0m \u001b[0;34m=\u001b[0m \u001b[0mcsv\u001b[0m\u001b[0;34m.\u001b[0m\u001b[0mreader\u001b[0m\u001b[0;34m(\u001b[0m\u001b[0mficheiro\u001b[0m\u001b[0;34m,\u001b[0m \u001b[0mdelimiter\u001b[0m\u001b[0;34m=\u001b[0m\u001b[0;34m';'\u001b[0m\u001b[0;34m)\u001b[0m\u001b[0;34m\u001b[0m\u001b[0m\n\u001b[0m\u001b[1;32m      5\u001b[0m         \u001b[0;32mfor\u001b[0m \u001b[0mlinha\u001b[0m \u001b[0;32min\u001b[0m \u001b[0mreader\u001b[0m\u001b[0;34m:\u001b[0m\u001b[0;34m\u001b[0m\u001b[0m\n\u001b[1;32m      6\u001b[0m             \u001b[0murl\u001b[0m \u001b[0;34m=\u001b[0m \u001b[0mlinha\u001b[0m\u001b[0;34m[\u001b[0m\u001b[0;36m1\u001b[0m\u001b[0;34m]\u001b[0m\u001b[0;34m\u001b[0m\u001b[0m\n",
      "\u001b[0;31mNameError\u001b[0m: name 'csv' is not defined"
     ]
    }
   ],
   "source": [
    "anos = ['2015','2016','2017','2018']\n",
    "for ano in anos:\n",
    "    with open('../{}.csv'.format(ano), 'rt') as ficheiro:\n",
    "        reader = csv.reader(ficheiro, delimiter=';')\n",
    "        for linha in reader:\n",
    "            url = linha[1]\n",
    "            nome_arquivo = gerar_nome(linha)\n",
    "            print('Baixando... {}'.format(nome_arquivo),end='')\n",
    "            baixar_pdf(url, nome_arquivo)\n",
    "            print('...  Baixado!')\n",
    "        "
   ]
  },
  {
   "cell_type": "markdown",
   "metadata": {},
   "source": [
    "\n",
    "url = 'http://www.ale.am.gov.br/wp-content/uploads/2018/07/SERAFIM-CORReA.pdf'\n",
    "baixar_pdf(url=url, nome_arquivo='2018_06_serafim')\n"
   ]
  },
  {
   "cell_type": "markdown",
   "metadata": {},
   "source": [
    "anos = ['2015','2016','2017','2018']\n",
    "for ano in anos:\n",
    "    with open('../{}.csv'.format(ano), 'rt') as ficheiro:\n",
    "        reader = csv.reader(ficheiro, delimiter=';')\n",
    "        for linha in reader:\n",
    "            url = linha[1]\n",
    "            print(url, gerar_nome(linha))"
   ]
  },
  {
   "cell_type": "code",
   "execution_count": null,
   "metadata": {},
   "outputs": [],
   "source": [
    "anos = ['2015','2016','2017','2018']\n",
    "for ano in anos:\n",
    "    print('../{}.csv'.format(ano), end=\"\")"
   ]
  },
  {
   "cell_type": "code",
   "execution_count": null,
   "metadata": {},
   "outputs": [],
   "source": []
  }
 ],
 "metadata": {
  "kernelspec": {
   "display_name": "Python 3",
   "language": "python",
   "name": "python3"
  },
  "language_info": {
   "codemirror_mode": {
    "name": "ipython",
    "version": 3
   },
   "file_extension": ".py",
   "mimetype": "text/x-python",
   "name": "python",
   "nbconvert_exporter": "python",
   "pygments_lexer": "ipython3",
   "version": "3.5.3"
  }
 },
 "nbformat": 4,
 "nbformat_minor": 2
}
