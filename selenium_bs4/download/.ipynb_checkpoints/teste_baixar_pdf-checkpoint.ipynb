{
 "cells": [
  {
   "cell_type": "code",
   "execution_count": 1,
   "metadata": {},
   "outputs": [],
   "source": [
    "import requests\n",
    "import csv"
   ]
  },
  {
   "cell_type": "code",
   "execution_count": 2,
   "metadata": {},
   "outputs": [],
   "source": [
    "def baixar_pdf(url,nome_arquivo):\n",
    "    r = requests.get(url)\n",
    "    with open('{}.pdf'.format(nome_arquivo), 'wb') as fd:\n",
    "        fd.write(r.content)"
   ]
  },
  {
   "cell_type": "code",
   "execution_count": 3,
   "metadata": {},
   "outputs": [],
   "source": [
    "def mes_num(mes):\n",
    "    m = {'janeiro': '01',\n",
    "         'fevereiro': '02',\n",
    "         'março':'03',\n",
    "         'abril':'04',\n",
    "         'maio':'05',\n",
    "         'junho':'06',\n",
    "         'julho':'07',\n",
    "         'agosto':'08',\n",
    "         'setembro':'09',\n",
    "         'outubro':'10',\n",
    "         'novembro':'11',\n",
    "         'dezembro':'12'}\n",
    "    return m[mes]"
   ]
  },
  {
   "cell_type": "code",
   "execution_count": 4,
   "metadata": {},
   "outputs": [],
   "source": [
    "def gerar_nome(linha):\n",
    "    nome = linha[0].lower()\n",
    "    nome = nome.replace('. ','_')\n",
    "    nome = nome.replace('.','_')\n",
    "    nome = nome.replace(' ','_')\n",
    "    ano = linha[2]\n",
    "    mes = mes_num(linha[3].lower())\n",
    "    return '{}_{}_{}'.format(ano,mes,nome)\n"
   ]
  },
  {
   "cell_type": "code",
   "execution_count": 6,
   "metadata": {},
   "outputs": [],
   "source": [
    "\n",
    "with open('../2018.csv', 'rt') as ficheiro:\n",
    "    reader = csv.reader(ficheiro, delimiter=';')\n",
    "    for linha in reader:\n",
    "        url = linha[1]\n",
    "        baixar_pdf(url, gerar_nome(linha))\n",
    "        "
   ]
  },
  {
   "cell_type": "code",
   "execution_count": null,
   "metadata": {},
   "outputs": [],
   "source": [
    "\n",
    "url = 'http://www.ale.am.gov.br/wp-content/uploads/2018/07/SERAFIM-CORReA.pdf'\n",
    "baixar_pdf(url=url, nome_arquivo='2018_06_serafim')\n"
   ]
  },
  {
   "cell_type": "code",
   "execution_count": null,
   "metadata": {},
   "outputs": [],
   "source": [
    "with open('../2018.csv', 'rt') as ficheiro:\n",
    "    reader = csv.reader(ficheiro, delimiter=';')\n",
    "    for linha in reader:\n",
    "        url = linha[1]\n",
    "        print(url, gerar_nome(linha))"
   ]
  },
  {
   "cell_type": "code",
   "execution_count": null,
   "metadata": {},
   "outputs": [],
   "source": []
  }
 ],
 "metadata": {
  "kernelspec": {
   "display_name": "Python 3",
   "language": "python",
   "name": "python3"
  },
  "language_info": {
   "codemirror_mode": {
    "name": "ipython",
    "version": 3
   },
   "file_extension": ".py",
   "mimetype": "text/x-python",
   "name": "python",
   "nbconvert_exporter": "python",
   "pygments_lexer": "ipython3",
   "version": "3.5.3"
  }
 },
 "nbformat": 4,
 "nbformat_minor": 2
}
