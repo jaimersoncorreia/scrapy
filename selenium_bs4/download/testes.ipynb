{
 "cells": [
  {
   "cell_type": "code",
   "execution_count": 6,
   "metadata": {},
   "outputs": [],
   "source": [
    "def mes_num(mes):\n",
    "    m = {'janeiro': '01',\n",
    "         'fevereiro': '02',\n",
    "         'março':'03',\n",
    "         'abril':'04',\n",
    "         'maio':'05',\n",
    "         'junho':'06',\n",
    "         'julho':'07',\n",
    "         'agosto':'08',\n",
    "         'setembro':'09',\n",
    "         'outubro':'10',\n",
    "         'novembro':'11',\n",
    "         'dezembro':'12'}\n",
    "    return m[mes]"
   ]
  },
  {
   "cell_type": "code",
   "execution_count": 7,
   "metadata": {},
   "outputs": [
    {
     "data": {
      "text/plain": [
       "'04'"
      ]
     },
     "execution_count": 7,
     "metadata": {},
     "output_type": "execute_result"
    }
   ],
   "source": [
    "mes_num('abril')"
   ]
  },
  {
   "cell_type": "code",
   "execution_count": null,
   "metadata": {},
   "outputs": [],
   "source": []
  }
 ],
 "metadata": {
  "kernelspec": {
   "display_name": "Python 3",
   "language": "python",
   "name": "python3"
  },
  "language_info": {
   "codemirror_mode": {
    "name": "ipython",
    "version": 3
   },
   "file_extension": ".py",
   "mimetype": "text/x-python",
   "name": "python",
   "nbconvert_exporter": "python",
   "pygments_lexer": "ipython3",
   "version": "3.5.3"
  }
 },
 "nbformat": 4,
 "nbformat_minor": 2
}
