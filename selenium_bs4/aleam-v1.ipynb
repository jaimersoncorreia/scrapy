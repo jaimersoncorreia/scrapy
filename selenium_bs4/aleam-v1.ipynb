{
 "cells": [
  {
   "cell_type": "code",
   "execution_count": 1,
   "metadata": {},
   "outputs": [],
   "source": [
    "import time\n",
    "from selenium import webdriver\n",
    "from selenium.webdriver.support.ui import Select\n",
    "\n",
    "from bs4 import BeautifulSoup\n",
    "driver = webdriver.Chrome()\n",
    " \n",
    "driver.get(\"http://www.ale.am.gov.br/tipos-publicacoes/prestacao-contas/\")\n",
    " \n",
    "time.sleep(10)"
   ]
  },
  {
   "cell_type": "code",
   "execution_count": 2,
   "metadata": {},
   "outputs": [],
   "source": [
    "def gettable(tabela,ano,mes):\n",
    "    tabela = []\n",
    "    line = []\n",
    "    for d in tabela:\n",
    "        linha = \"\"\n",
    "        for t in d.select(\"td\"):\n",
    "            linha += \"{};\".format(t.text)\n",
    "            link = t.find('a')\n",
    "            if link != None:\n",
    "                linha += '{};'.format(link['href'])\n",
    "            \n",
    "        pos = len(linha)\n",
    "        if pos != 0:\n",
    "            linha = linha[:pos-1]\n",
    "        line.append(linha)\n",
    "        #print(\"{}\".format(linha))\n",
    "        tabela.append(line)\n",
    "    return tabela"
   ]
  },
  {
   "cell_type": "code",
   "execution_count": 3,
   "metadata": {},
   "outputs": [],
   "source": [
    "def gravar_csv():\n",
    "    with open(\"{}-{:0>2}.csv\".format(ano,mes),\"w\") as f:\n",
    "        s = \"\".join(headers)\n",
    "        f.write(s+\"\\n\")\n",
    "\n",
    "        for l in line:\n",
    "            f.write(l+\"\\n\")"
   ]
  },
  {
   "cell_type": "code",
   "execution_count": 4,
   "metadata": {},
   "outputs": [
    {
     "name": "stdout",
     "output_type": "stream",
     "text": [
      "[]\n",
      "[]\n",
      "[]\n",
      "[]\n",
      "[]\n",
      "[]\n"
     ]
    }
   ],
   "source": [
    "#anos = [\"2012\",\"2013\",\"2014\",\"2015\",\"2016\",\"2017\",\"2018\"]\n",
    "anos = [\"2015\"]\n",
    "for ano in anos:\n",
    "    #meses = ['Janeiro','Fevereiro','Março','Abril','Maio','Junho','Julho','Agosto','Setembro','Outubro','Novembro','Dezembro']\n",
    "    #meses = ['1','2','3','4','5','6','7','8','9','10','11','12']\n",
    "    meses = ['1','2','3','4','5','6']\n",
    "    select_ano = Select(driver.find_element_by_xpath('//*[@id=\"main\"]/div[2]/form/div[1]/div/select'))\n",
    "    select_ano.select_by_value(ano)\n",
    "    time.sleep(1)\n",
    "    for mes in meses:\n",
    "        select_mes = Select(driver.find_element_by_xpath('//*[@id=\"main\"]/div[2]/form/div[2]/div/select'))\n",
    "        select_mes.select_by_value(mes)\n",
    "        time.sleep(3)\n",
    "        consultar = driver.find_element_by_id(\"btn_submit\")\n",
    "        consultar.click()\n",
    "        time.sleep(4)\n",
    "        \n",
    "        dados = driver.find_element_by_xpath('//*[@id=\"main\"]/div[3]')\n",
    "        html = dados.get_attribute(\"innerHTML\")\n",
    "        soup = BeautifulSoup(html, \"html.parser\")\n",
    "        table = soup.select_one('table')\n",
    "        headers = [header.text+\";\" for header in table.select(\"tr th\")]\n",
    "        headers = headers[:len(headers)-1]\n",
    "        \n",
    "        tabela = [d for d in table.select(\"tr\")]\n",
    "        teste = gettable(tabela,ano,mes)\n",
    "        print(teste)\n",
    "        #print('{}-{:0>2} - {}'.format(ano,mes, teste))\n"
   ]
  },
  {
   "cell_type": "code",
   "execution_count": 5,
   "metadata": {},
   "outputs": [],
   "source": [
    "time.sleep(2)\n",
    "driver.close()"
   ]
  }
 ],
 "metadata": {
  "kernelspec": {
   "display_name": "Python 3",
   "language": "python",
   "name": "python3"
  },
  "language_info": {
   "codemirror_mode": {
    "name": "ipython",
    "version": 3
   },
   "file_extension": ".py",
   "mimetype": "text/x-python",
   "name": "python",
   "nbconvert_exporter": "python",
   "pygments_lexer": "ipython3",
   "version": "3.5.3"
  }
 },
 "nbformat": 4,
 "nbformat_minor": 2
}
