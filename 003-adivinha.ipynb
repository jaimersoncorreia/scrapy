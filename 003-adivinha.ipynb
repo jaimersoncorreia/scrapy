{
 "cells": [
  {
   "cell_type": "markdown",
   "metadata": {},
   "source": [
    "# Jogo do Adivinha 003"
   ]
  },
  {
   "cell_type": "code",
   "execution_count": 1,
   "metadata": {},
   "outputs": [
    {
     "name": "stdout",
     "output_type": "stream",
     "text": [
      "Digite um Número: 15\n"
     ]
    }
   ],
   "source": [
    "numero = 10\n",
    "chute = int(input('Digite um Número: '))"
   ]
  },
  {
   "cell_type": "code",
   "execution_count": 2,
   "metadata": {},
   "outputs": [
    {
     "name": "stdout",
     "output_type": "stream",
     "text": [
      "Você errou, o valor é menor (Está quente)!\n"
     ]
    }
   ],
   "source": [
    "diferenca = numero - chute\n",
    "if diferenca == 0:\n",
    "    print('Parabéns você acertou!')\n",
    "elif diferenca > 0:\n",
    "    if diferenca < 10:\n",
    "        print('Você errou, o valor é maior(está quente)!')\n",
    "    else:\n",
    "        print('Você errou, o valor é maior (está frio )!')\n",
    "else:\n",
    "    if abs(diferenca) < 10:\n",
    "        print('Você errou, o valor é menor (Está quente)!')\n",
    "    else:\n",
    "        print('Você errou, o valor é menor (Está frio)!')"
   ]
  }
 ],
 "metadata": {
  "kernelspec": {
   "display_name": "Python 3",
   "language": "python",
   "name": "python3"
  },
  "language_info": {
   "codemirror_mode": {
    "name": "ipython",
    "version": 3
   },
   "file_extension": ".py",
   "mimetype": "text/x-python",
   "name": "python",
   "nbconvert_exporter": "python",
   "pygments_lexer": "ipython3",
   "version": "3.5.3"
  }
 },
 "nbformat": 4,
 "nbformat_minor": 2
}
