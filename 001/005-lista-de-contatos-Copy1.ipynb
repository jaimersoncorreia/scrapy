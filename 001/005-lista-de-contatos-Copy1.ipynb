{
 "cells": [
  {
   "cell_type": "code",
   "execution_count": 1,
   "metadata": {},
   "outputs": [],
   "source": [
    "def criar_contato(*args):\n",
    "    print('Digite as informações do contato ')\n",
    "    info = {}\n",
    "    for arg in args:\n",
    "        info[arg] = input('Digite {}: '.format(arg))\n",
    "    return info"
   ]
  },
  {
   "cell_type": "code",
   "execution_count": 2,
   "metadata": {},
   "outputs": [],
   "source": [
    "def salvar_contato(**kwargs):\n",
    "    arquivo = open('contatos.csv', 'at')\n",
    "    arquivo.write('\\n{}'.format(','.join(kwargs.values())))\n",
    "    arquivo.flush()\n",
    "    arquivo.close()"
   ]
  },
  {
   "cell_type": "code",
   "execution_count": 3,
   "metadata": {},
   "outputs": [
    {
     "name": "stdout",
     "output_type": "stream",
     "text": [
      "Quantos contatos deseja cadastrar? 2\n",
      "Digite os campos separados por vírgula: nome,email,fone\n",
      "Digite as informações do contato \n",
      "Digite nome: teste\n",
      "Digite email: teste@\n",
      "Digite fone: 09999999\n",
      "Digite as informações do contato \n",
      "Digite nome: testes\n",
      "Digite email: teste@ss\n",
      "Digite fone: 09999999999999999\n"
     ]
    }
   ],
   "source": [
    "qtde = int(input('Quantos contatos deseja cadastrar? '))\n",
    "campos = input('Digite os campos separados por vírgula: ')\n",
    "campos = campos.split(',')\n",
    "for i in range(qtde):\n",
    "    contato = criar_contato(*campos)\n",
    "    salvar_contato(**contato)"
   ]
  },
  {
   "cell_type": "markdown",
   "metadata": {},
   "source": [
    "## Listando o arquivos\n"
   ]
  },
  {
   "cell_type": "code",
   "execution_count": 4,
   "metadata": {},
   "outputs": [
    {
     "name": "stdout",
     "output_type": "stream",
     "text": [
      "\n",
      "92 99187-4292,Jaimerson Correia dos Santos,jaimersonsantos@ufam.edu.br\n",
      "92 99187-4292,Sofia Bastão dos Santos,sofia@hotmail.com\n",
      "92 00000-0000,Gabriela Bastão Coelho,gabriela@hotmail.com\n",
      "teste\n",
      "teste@,teste,09999999\n",
      "teste@ss,testes,09999999999999999\n"
     ]
    }
   ],
   "source": [
    "teste = open('contatos.csv','rt')\n",
    "print(teste.read())\n",
    "teste.close()"
   ]
  },
  {
   "cell_type": "code",
   "execution_count": null,
   "metadata": {},
   "outputs": [],
   "source": []
  }
 ],
 "metadata": {
  "kernelspec": {
   "display_name": "Python 3",
   "language": "python",
   "name": "python3"
  },
  "language_info": {
   "codemirror_mode": {
    "name": "ipython",
    "version": 3
   },
   "file_extension": ".py",
   "mimetype": "text/x-python",
   "name": "python",
   "nbconvert_exporter": "python",
   "pygments_lexer": "ipython3",
   "version": "3.5.3"
  }
 },
 "nbformat": 4,
 "nbformat_minor": 2
}
