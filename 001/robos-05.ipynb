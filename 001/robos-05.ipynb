{
 "cells": [
  {
   "cell_type": "markdown",
   "metadata": {},
   "source": [
    "# Robôs"
   ]
  },
  {
   "cell_type": "markdown",
   "metadata": {},
   "source": [
    "A matriz vai de 0x0 até 10x10"
   ]
  },
  {
   "cell_type": "code",
   "execution_count": 1,
   "metadata": {},
   "outputs": [],
   "source": [
    "class Point(object):\n",
    "    \n",
    "    def __init__(self, x, y):\n",
    "        self.x = x\n",
    "        self.y = y\n",
    "        \n",
    "    def __str__(self):\n",
    "        return '<{}, {}>'.format(self.x, self.y)\n",
    "        \n",
    "class Reward(Point):\n",
    "    def __init__(self,x,y,name):\n",
    "        super(Reward, self).__init__(x, y)\n",
    "        self.name = name    \n",
    "    \n",
    "    def __str__(self):\n",
    "        return '<{}, {}>: {}'.format(self.x, self.y,self.name)\n",
    "    \n",
    "    def __repr__(self):\n",
    "        return '<Reward> {}'.format(self)\n",
    "    \n",
    "class Robot(Point):    \n",
    "        \n",
    "    def move_up(self):\n",
    "        if self.y < 10:\n",
    "            self.y += 1\n",
    "        else:\n",
    "            print('Movimento proibido')\n",
    "        \n",
    "    def move_down(self):\n",
    "        if self.y > 0:\n",
    "            self.y -= 1\n",
    "        else:\n",
    "            print('Movimento proibido')\n",
    "    \n",
    "    def move_right(self):\n",
    "        if self.x < 10:\n",
    "            self.x += 1\n",
    "        else:\n",
    "            print('Movimento proibido')\n",
    "        \n",
    "    def move_left(self):\n",
    "        if self.x > 0:\n",
    "            self.x -= 1\n",
    "        else:\n",
    "            print('Movimento proibido')\n",
    "        \n",
    "    def print_x_y(self):\n",
    "        print('x = {} e y = {}'.format(self.x,self.y))"
   ]
  },
  {
   "cell_type": "code",
   "execution_count": 2,
   "metadata": {},
   "outputs": [],
   "source": [
    "def check_reward(robot, rewards):\n",
    "    ok = False\n",
    "    for reward in rewards:\n",
    "        if reward.x == robot.x and reward.y == robot.y:\n",
    "            print('O robô achou a recompensa: {}'.format(reward.name))\n",
    "            ok = True\n",
    "    return ok"
   ]
  },
  {
   "cell_type": "code",
   "execution_count": 3,
   "metadata": {},
   "outputs": [],
   "source": [
    "import random\n",
    "r1 = Reward(random.randint(1,10),random.randint(1,10),'moeda')\n",
    "r2 = Reward(random.randint(1,10),random.randint(1,10),'gasolina')\n",
    "r3 = Reward(random.randint(1,10),random.randint(1,10),'arma')\n",
    "rewards = [r1, r2, r3]"
   ]
  },
  {
   "cell_type": "code",
   "execution_count": 4,
   "metadata": {},
   "outputs": [
    {
     "data": {
      "text/plain": [
       "<Reward> <1, 10>: moeda"
      ]
     },
     "execution_count": 4,
     "metadata": {},
     "output_type": "execute_result"
    }
   ],
   "source": [
    "r1"
   ]
  },
  {
   "cell_type": "code",
   "execution_count": 5,
   "metadata": {},
   "outputs": [
    {
     "data": {
      "text/plain": [
       "[<Reward> <1, 10>: moeda, <Reward> <2, 4>: gasolina, <Reward> <10, 8>: arma]"
      ]
     },
     "execution_count": 5,
     "metadata": {},
     "output_type": "execute_result"
    }
   ],
   "source": [
    "rewards"
   ]
  },
  {
   "cell_type": "code",
   "execution_count": 6,
   "metadata": {},
   "outputs": [],
   "source": [
    "robot = Robot(random.randint(0,10), random.randint(0,10))"
   ]
  },
  {
   "cell_type": "code",
   "execution_count": 7,
   "metadata": {},
   "outputs": [
    {
     "data": {
      "text/plain": [
       "'<5, 6>'"
      ]
     },
     "execution_count": 7,
     "metadata": {},
     "output_type": "execute_result"
    }
   ],
   "source": [
    "str(robot)"
   ]
  },
  {
   "cell_type": "code",
   "execution_count": null,
   "metadata": {},
   "outputs": [],
   "source": []
  }
 ],
 "metadata": {
  "kernelspec": {
   "display_name": "Python 3",
   "language": "python",
   "name": "python3"
  },
  "language_info": {
   "codemirror_mode": {
    "name": "ipython",
    "version": 3
   },
   "file_extension": ".py",
   "mimetype": "text/x-python",
   "name": "python",
   "nbconvert_exporter": "python",
   "pygments_lexer": "ipython3",
   "version": "3.5.3"
  }
 },
 "nbformat": 4,
 "nbformat_minor": 2
}
