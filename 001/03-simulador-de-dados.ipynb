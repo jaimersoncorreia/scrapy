{
 "cells": [
  {
   "cell_type": "code",
   "execution_count": 1,
   "metadata": {},
   "outputs": [],
   "source": [
    "import random"
   ]
  },
  {
   "cell_type": "code",
   "execution_count": 5,
   "metadata": {},
   "outputs": [],
   "source": [
    "def gerar_numeros(faces):\n",
    "    dados = int(input('Digite o número de dados: '))\n",
    "    for i in range(dados):\n",
    "        numero = random.randint(1, faces)\n",
    "        print('Seu número é: {}'.format(numero))"
   ]
  },
  {
   "cell_type": "code",
   "execution_count": 6,
   "metadata": {},
   "outputs": [
    {
     "name": "stdout",
     "output_type": "stream",
     "text": [
      "Digite o número de faces (ou parar para finalizar o jogo): 10\n",
      "Digite o número de dados: 3\n",
      "Seu número é: 5\n",
      "Seu número é: 10\n",
      "Seu número é: 4\n",
      "Digite o número de faces (ou parar para finalizar o jogo): parar\n",
      "O Jogo acabou!\n"
     ]
    }
   ],
   "source": [
    "continua = True\n",
    "while continua:\n",
    "    faces = input('Digite o número de faces (ou parar para finalizar o jogo): ')\n",
    "    if faces == 'parar':\n",
    "        continua = False\n",
    "    else:\n",
    "        faces = int(faces)\n",
    "        gerar_numeros(faces)\n",
    "print('O Jogo acabou!')"
   ]
  },
  {
   "cell_type": "code",
   "execution_count": null,
   "metadata": {},
   "outputs": [],
   "source": []
  }
 ],
 "metadata": {
  "kernelspec": {
   "display_name": "Python 3",
   "language": "python",
   "name": "python3"
  },
  "language_info": {
   "codemirror_mode": {
    "name": "ipython",
    "version": 3
   },
   "file_extension": ".py",
   "mimetype": "text/x-python",
   "name": "python",
   "nbconvert_exporter": "python",
   "pygments_lexer": "ipython3",
   "version": "3.5.3"
  }
 },
 "nbformat": 4,
 "nbformat_minor": 2
}
