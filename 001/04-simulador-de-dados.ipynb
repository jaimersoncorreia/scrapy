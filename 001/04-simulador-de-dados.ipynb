{
 "cells": [
  {
   "cell_type": "code",
   "execution_count": 1,
   "metadata": {},
   "outputs": [],
   "source": [
    "import random\n",
    "from statistics import mean"
   ]
  },
  {
   "cell_type": "code",
   "execution_count": 2,
   "metadata": {},
   "outputs": [],
   "source": [
    "def gerar_numeros(faces):\n",
    "    dados = int(input('Digite o número de dados: '))\n",
    "    numeros = []\n",
    "    for i in range(dados):\n",
    "        numero = random.randint(1, faces)\n",
    "        numeros.append(numero)\n",
    "        print('Seu número é: {}'.format(numero))\n",
    "    print('\\nA soma dos valores é: {}'.format(sum(numeros)))\n",
    "    print('O valor máximo é: {}'.format(max(numeros)))\n",
    "    print('O valor mínimo é: {}'.format(min(numeros)))\n",
    "    print('A média é: {}'.format(mean(numeros)))"
   ]
  },
  {
   "cell_type": "code",
   "execution_count": 3,
   "metadata": {},
   "outputs": [
    {
     "name": "stdout",
     "output_type": "stream",
     "text": [
      "Digite o número de faces (ou parar para finalizar o jogo): parar\n",
      "O Jogo acabou!\n"
     ]
    }
   ],
   "source": [
    "continua = True\n",
    "while continua:\n",
    "    faces = input('Digite o número de faces (ou parar para finalizar o jogo): ')\n",
    "    if faces == 'parar':\n",
    "        continua = False\n",
    "    else:\n",
    "        faces = int(faces)\n",
    "        gerar_numeros(faces)\n",
    "print('O Jogo acabou!')"
   ]
  },
  {
   "cell_type": "code",
   "execution_count": null,
   "metadata": {},
   "outputs": [],
   "source": []
  }
 ],
 "metadata": {
  "kernelspec": {
   "display_name": "Python 3",
   "language": "python",
   "name": "python3"
  },
  "language_info": {
   "codemirror_mode": {
    "name": "ipython",
    "version": 3
   },
   "file_extension": ".py",
   "mimetype": "text/x-python",
   "name": "python",
   "nbconvert_exporter": "python",
   "pygments_lexer": "ipython3",
   "version": "3.5.3"
  }
 },
 "nbformat": 4,
 "nbformat_minor": 2
}
