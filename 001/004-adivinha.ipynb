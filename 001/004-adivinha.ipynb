{
 "cells": [
  {
   "cell_type": "markdown",
   "metadata": {},
   "source": [
    "# Jogo do Adivinha 004"
   ]
  },
  {
   "cell_type": "code",
   "execution_count": 1,
   "metadata": {},
   "outputs": [],
   "source": [
    "numero = 10"
   ]
  },
  {
   "cell_type": "code",
   "execution_count": 2,
   "metadata": {},
   "outputs": [
    {
     "name": "stdout",
     "output_type": "stream",
     "text": [
      "Digite um Número (1 a 100): 10\n",
      "Parabéns você acertou!\n"
     ]
    }
   ],
   "source": [
    "contador = 0\n",
    "while contador < 5:\n",
    "    chute = int(input('Digite um Número (1 a 100): '))\n",
    "    diferenca = numero - chute\n",
    "    if diferenca == 0:\n",
    "        print('Parabéns você acertou!')\n",
    "        break\n",
    "    elif diferenca > 0:\n",
    "        if diferenca <= 10:\n",
    "            print('Você errou, o valor é maior(está quente)!')\n",
    "        else:\n",
    "            print('Você errou, o valor é maior (está frio )!')\n",
    "    else:\n",
    "        if abs(diferenca) <= 10:\n",
    "            print('Você errou, o valor é menor (Está quente)!')\n",
    "        else:\n",
    "            print('Você errou, o valor é menor (Está frio)!')\n",
    "    contador += 1"
   ]
  },
  {
   "cell_type": "code",
   "execution_count": null,
   "metadata": {},
   "outputs": [],
   "source": []
  }
 ],
 "metadata": {
  "kernelspec": {
   "display_name": "Python 3",
   "language": "python",
   "name": "python3"
  },
  "language_info": {
   "codemirror_mode": {
    "name": "ipython",
    "version": 3
   },
   "file_extension": ".py",
   "mimetype": "text/x-python",
   "name": "python",
   "nbconvert_exporter": "python",
   "pygments_lexer": "ipython3",
   "version": "3.5.3"
  }
 },
 "nbformat": 4,
 "nbformat_minor": 2
}
