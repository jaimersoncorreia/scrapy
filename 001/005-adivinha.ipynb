{
 "cells": [
  {
   "cell_type": "markdown",
   "metadata": {},
   "source": [
    "# Jogo do Adivinha 005"
   ]
  },
  {
   "cell_type": "code",
   "execution_count": 1,
   "metadata": {},
   "outputs": [],
   "source": [
    "import random"
   ]
  },
  {
   "cell_type": "code",
   "execution_count": 2,
   "metadata": {},
   "outputs": [],
   "source": [
    "numero = random.randint(1,100)"
   ]
  },
  {
   "cell_type": "code",
   "execution_count": 3,
   "metadata": {},
   "outputs": [
    {
     "name": "stdout",
     "output_type": "stream",
     "text": [
      "Digite um Número (1 a 100): 50\n",
      "Você errou, o valor é maior (está frio )!\n",
      "Digite um Número (1 a 100): 75\n",
      "Você errou, o valor é maior (está frio )!\n",
      "Digite um Número (1 a 100): 88\n",
      "Parabéns você acertou!\n",
      "O número é 88\n"
     ]
    }
   ],
   "source": [
    "contador = 0\n",
    "while contador < 5:\n",
    "    chute = int(input('Digite um Número (1 a 100): '))\n",
    "    diferenca = numero - chute\n",
    "    if diferenca == 0:\n",
    "        print('Parabéns você acertou!')\n",
    "        break\n",
    "    elif diferenca > 0:\n",
    "        if diferenca <= 10:\n",
    "            print('Você errou, o valor é maior(está quente)!')\n",
    "        else:\n",
    "            print('Você errou, o valor é maior (está frio )!')\n",
    "    else:\n",
    "        if abs(diferenca) <= 10:\n",
    "            print('Você errou, o valor é menor (Está quente)!')\n",
    "        else:\n",
    "            print('Você errou, o valor é menor (Está frio)!')\n",
    "    contador += 1\n",
    "print('O número é {}'.format(numero))"
   ]
  },
  {
   "cell_type": "code",
   "execution_count": null,
   "metadata": {},
   "outputs": [],
   "source": []
  }
 ],
 "metadata": {
  "kernelspec": {
   "display_name": "Python 3",
   "language": "python",
   "name": "python3"
  },
  "language_info": {
   "codemirror_mode": {
    "name": "ipython",
    "version": 3
   },
   "file_extension": ".py",
   "mimetype": "text/x-python",
   "name": "python",
   "nbconvert_exporter": "python",
   "pygments_lexer": "ipython3",
   "version": "3.5.3"
  }
 },
 "nbformat": 4,
 "nbformat_minor": 2
}
