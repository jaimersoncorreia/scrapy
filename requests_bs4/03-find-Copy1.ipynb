{
 "cells": [
  {
   "cell_type": "code",
   "execution_count": 1,
   "metadata": {},
   "outputs": [],
   "source": [
    "from bs4 import BeautifulSoup\n",
    "import requests\n",
    "import csv"
   ]
  },
  {
   "cell_type": "code",
   "execution_count": null,
   "metadata": {},
   "outputs": [],
   "source": []
  },
  {
   "cell_type": "code",
   "execution_count": 5,
   "metadata": {},
   "outputs": [
    {
     "name": "stdout",
     "output_type": "stream",
     "text": [
      "BEST SUBLIME TEXT FEATURES AND SHORTCUTS\n",
      "In this video, we will be learning about my favorite Sublime Text features and shortcuts for Windows. Knowing your way around your text editor will help you get things done much faster and be more productive. The features in this video have saved me a ton of time over the years. I have two different versions of this video depending on your operating system…\n",
      "https://www.youtube.com/watch?v=9FPFogHkgOc\n",
      "https://www.youtube.com/watch?v=TB3qztdM7V8\n",
      "\n",
      "##############################\n",
      "\n",
      "PYTHON TUTORIAL: HOW TO SET THE PATH AND SWITCH BETWEEN DIFFERENT VERSIONS/EXECUTABLES\n",
      "In this Python Programming Tutorial, we will be learning how to set the PATH environment variable. We will also learn how to modify the PATH in order to switch between different Python versions and executables. This is an essential skill that trips up many people when they first start learning Python and will definitely help you in many real-world situations. I have two different versions of this video depending on your operating system…\n",
      "https://www.youtube.com/watch?v=OdIHeg4jj2c\n",
      "https://www.youtube.com/watch?v=PUIE7CPANfo\n",
      "\n",
      "##############################\n",
      "\n",
      "PYTHON QUICK TIP: F-STRINGS – HOW TO USE THEM AND ADVANCED STRING FORMATTING\n",
      "In this Python Programming Tutorial, we will be learning how to use f-strings to format strings. F-strings are new to Python3.6+ and are extremely useful once you learn how to use them. Viewers have likely seen me use f-strings in previous videos so this video will go into detail exactly how to use them so that everyone can follow along confidently. Let’s get started…\n",
      "https://www.youtube.com/watch?v=nghuHvKLhJA\n",
      "\n",
      "##############################\n",
      "\n",
      "BIG ANNOUNCEMENTS, VIDEO UPDATES, AND FUTURE PLANS\n",
      "For those of you who don’t know, I recently quit my previous job and will now be doing tutorials on YouTube full-time. In this video, we discuss what to expect now that this is a full-time job, and also some details about how all this will work. Thanks again to all of you who made it possible to do what I love full-time.\n",
      "https://www.youtube.com/watch?v=OPUP4ghN9oo\n",
      "\n",
      "##############################\n",
      "\n",
      "PYTHON TUTORIAL: SETS – SET METHODS AND OPERATIONS TO SOLVE COMMON PROBLEMS\n",
      "In this Python Programming Tutorial, we will be looking at the Set data structure in-depth and discovering how it can help us solve some common problems. The set can not only solve certain problems more quickly but is also more efficient in many cases.\n",
      "https://www.youtube.com/watch?v=r3R3h5ly_8g\n",
      "\n",
      "##############################\n",
      "\n",
      "PYTHON FLASK TUTORIALS – FULL SERIES\n",
      "In this Python Flask Tutorial, we will be learning how to get started using the Flask framework. We will install the necessary packages and get a basic Hello World Application running in our browser.\n",
      "https://www.youtube.com/watch?v=MwZwr5Tvyxo\n",
      "\n",
      "##############################\n",
      "\n",
      "LINUX/MAC TERMINAL TUTORIAL: THE GREP COMMAND – SEARCH FILES AND DIRECTORIES FOR PATTERNS OF TEXT\n",
      "In this Linux/Mac terminal tutorial, we will be learning how to use the grep command. The grep command allows us to search files and directories for patterns of text. You can also pipe the output of one command into grep to get certain matches. It’s extremely useful once you learn the ins and outs. Let’s get started…\n",
      "https://www.youtube.com/watch?v=VGgTmxXp7xQ\n",
      "\n",
      "##############################\n",
      "\n",
      "HOW TO RUN LINUX/BASH ON WINDOWS 10 USING THE BUILT-IN WINDOWS SUBSYSTEM FOR LINUX\n",
      "In this video, we will be learning how to run Linux on Windows using the new Windows Subsystem for Linux that comes with Windows 10. This is an excellent way to run Bash on a Windows machine. It allows you to use all of the Bash commands we are used to using on Linux within a Windows system. We will be showing how to enable and install Linux on Windows and also go over a quick overview to see how this works. Let’s get started…\n",
      "https://www.youtube.com/watch?v=xzgwDbe7foQ\n",
      "\n",
      "##############################\n",
      "\n",
      "PYTHON QUICK TIP: HIDING PASSWORDS AND SECRET KEYS IN ENVIRONMENT VARIABLES (WINDOWS)\n",
      "In this Python Programming Tutorial, we will be learning how to hide passwords and secret information within environment variables on Windows machines. Hard-coding secret information is a common mistake that beginners make when learning Python. Hiding this information within environment variables allows you to access your secret information within your code without anyone else being able to see these values from your source code. Let’s get started…\n",
      "https://www.youtube.com/watch?v=IolxqkL7cD8\n",
      "\n",
      "##############################\n",
      "\n",
      "PYTHON QUICK TIP: HIDING PASSWORDS AND SECRET KEYS IN ENVIRONMENT VARIABLES (MAC & LINUX)\n",
      "In this Python Programming Tutorial, we will be learning how to hide passwords and secret information within environment variables on Mac and Linux machines. Hard-coding secret information is a common mistake that beginners make when learning Python. Hiding this information within environment variables allows you to access your secret information within your code without anyone else being able to see these values from your source code. Let’s get started…\n",
      "https://www.youtube.com/watch?v=5iWhQWVXosU\n",
      "\n",
      "##############################\n",
      "\n"
     ]
    }
   ],
   "source": [
    "source = requests.get('http://coreyms.com/').text\n",
    "#source = requests.get('http://coreyms.com/page/13').text\n",
    "\n",
    "csv_file = open('cms_scrape.csv', 'w')\n",
    "\n",
    "csv_writer = csv.writer(csv_file)\n",
    "csv_writer.writerow(['headline','summary','video_link'])\n",
    "\n",
    "soup = BeautifulSoup(source, 'lxml')\n",
    "\n",
    "for article in soup.findAll('article'):\n",
    "    headline = article.header.h2.text\n",
    "    print(headline.upper())\n",
    "    \n",
    "    summary = article.find('div', class_='entry-content').p.text\n",
    "    print(summary)\n",
    "    \n",
    "    yt_link = ''\n",
    "    try:        \n",
    "        for vid_src in article.findAll('iframe', class_='youtube-player'):\n",
    "            vid_id = vid_src['src'].split('/')[4]\n",
    "            vid_id = vid_id.split('?')[0]\n",
    "            yt_link += 'https://www.youtube.com/watch?v={}\\n'.format(vid_id)          \n",
    "    except Exception as e:\n",
    "        yt_link = None\n",
    "        \n",
    "    print(yt_link)\n",
    "    print('##############################\\n')\n",
    "    csv_writer.writerow([headline, summary, yt_link])\n",
    "csv_file.close()"
   ]
  },
  {
   "cell_type": "code",
   "execution_count": null,
   "metadata": {},
   "outputs": [],
   "source": []
  },
  {
   "cell_type": "code",
   "execution_count": null,
   "metadata": {},
   "outputs": [],
   "source": []
  },
  {
   "cell_type": "code",
   "execution_count": null,
   "metadata": {},
   "outputs": [],
   "source": []
  },
  {
   "cell_type": "code",
   "execution_count": null,
   "metadata": {},
   "outputs": [],
   "source": []
  },
  {
   "cell_type": "code",
   "execution_count": null,
   "metadata": {},
   "outputs": [],
   "source": []
  },
  {
   "cell_type": "code",
   "execution_count": null,
   "metadata": {},
   "outputs": [],
   "source": []
  },
  {
   "cell_type": "code",
   "execution_count": null,
   "metadata": {},
   "outputs": [],
   "source": []
  },
  {
   "cell_type": "code",
   "execution_count": 3,
   "metadata": {},
   "outputs": [
    {
     "data": {
      "text/plain": [
       "404"
      ]
     },
     "execution_count": 3,
     "metadata": {},
     "output_type": "execute_result"
    }
   ],
   "source": [
    "ht = requests.get('http://coreyms.com/page/130')\n",
    "ht.status_code"
   ]
  },
  {
   "cell_type": "code",
   "execution_count": null,
   "metadata": {},
   "outputs": [],
   "source": []
  }
 ],
 "metadata": {
  "kernelspec": {
   "display_name": "Python 3",
   "language": "python",
   "name": "python3"
  },
  "language_info": {
   "codemirror_mode": {
    "name": "ipython",
    "version": 3
   },
   "file_extension": ".py",
   "mimetype": "text/x-python",
   "name": "python",
   "nbconvert_exporter": "python",
   "pygments_lexer": "ipython3",
   "version": "3.5.3"
  }
 },
 "nbformat": 4,
 "nbformat_minor": 2
}
