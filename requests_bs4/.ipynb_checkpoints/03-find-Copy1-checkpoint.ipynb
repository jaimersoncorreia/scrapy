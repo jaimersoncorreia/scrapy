{
 "cells": [
  {
   "cell_type": "code",
   "execution_count": 1,
   "metadata": {},
   "outputs": [],
   "source": [
    "from bs4 import BeautifulSoup\n",
    "import requests"
   ]
  },
  {
   "cell_type": "code",
   "execution_count": 2,
   "metadata": {},
   "outputs": [
    {
     "name": "stdout",
     "output_type": "stream",
     "text": [
      "MAKE A RAISED DOG FEEDER\n",
      "\n",
      "\n",
      "##############################\n",
      "PREVENT PICASA FROM SCANNING FOLDERS\n",
      "I love using Picasa for viewing and editing my photos. What I don’t love is that it automatically scans and imports tons of unwanted photos by default. This creates a ton of clutter and makes it difficult for me to find the actual photos I want to work with. Fortunately it is easy to prevent Picasa from scanning folders.\n",
      "\n",
      "##############################\n",
      "HOW TO BUILD A PAVER PATIO\n",
      "\n",
      "\n",
      "##############################\n",
      "QUICK TIP: USE A WOODEN PALLET AS A LUMBER RACK\n",
      "Making a lumber rack for the workshop is a task I’ve been putting off for a long time now. As I was cleaning up my shop the other day, I decided I needed to come up with a temporary solution for the pile of lumber on my floor. I’ve had an old wooden pallet in the corner of my shop for some time, so I decided to start loading what I could onto that. It was surprisingly more spacious and sturdy than I had first anticipated.\n",
      "\n",
      "##############################\n",
      "HOW TO RECORD SOUND FROM YOUR COMPUTER’S SPEAKERS (WINDOWS)\n",
      "At times, you may want to record sound from your computer’s speakers. The best way to do this is to use the audio output from your speakers as your input device in the recording software of your choice. You do not need a mic or any special equipment to do this. Just follow these instructions:\n",
      "\n",
      "##############################\n",
      "EMS AND REMS FOR SIZING\n",
      "Ems and Rems both are scalable units in CSS which are relative to a base font-size in pixels. So what’s the difference between the two?\n",
      "\n",
      "##############################\n",
      "HOW TO BUILD A PERGOLA\n",
      "\n",
      "\n",
      "##############################\n",
      "ADDING CUSTOM WEB FONTS TO YOUR WEB SITE USING CSS FONT-FACE\n",
      "Adding custom web fonts to your website is one of those things that seems like it should be easier than it actually is. In this video tutorial, we’ll walk through how to add a custom font to your website using the FontSquirrel.com Web Font Generator. Let’s Get Started:\n",
      "y2AlgMII1OU\n",
      "https://www.youtube.com/watch?v=y2AlgMII1OU\n",
      "##############################\n"
     ]
    }
   ],
   "source": [
    "#source = requests.get('http://coreyms.com/').text\n",
    "source = requests.get('http://coreyms.com/page/13').text\n",
    "\n",
    "soup = BeautifulSoup(source, 'lxml')\n",
    "\n",
    "for article in soup.findAll('article'):\n",
    "    headline = article.header.h2.text\n",
    "    print(headline.upper())\n",
    "    \n",
    "    summary = article.find('div', class_='entry-content').p.text\n",
    "    print(summary)\n",
    "    \n",
    "    yt_link = ''\n",
    "    try:        \n",
    "        vid_src = article.find('iframe', class_='youtube-player')['src']\n",
    "        vid_id = vid_src.split('/')[4]\n",
    "        vid_id = vid_id.split('?')[0]\n",
    "        print(vid_id)\n",
    "        yt_link = 'https://www.youtube.com/watch?v={}'.format(vid_id)\n",
    "    except Exception as e:\n",
    "        yt_link = None\n",
    "        \n",
    "    print(yt_link)\n",
    "    print('##############################')\n"
   ]
  },
  {
   "cell_type": "code",
   "execution_count": 3,
   "metadata": {},
   "outputs": [
    {
     "data": {
      "text/plain": [
       "<iframe allowfullscreen=\"true\" class=\"youtube-player\" height=\"360\" src=\"http://www.youtube.com/embed/y2AlgMII1OU?version=3&amp;rel=1&amp;fs=1&amp;autohide=2&amp;showsearch=0&amp;showinfo=1&amp;iv_load_policy=1&amp;wmode=transparent\" style=\"border:0;\" type=\"text/html\" width=\"640\"></iframe>"
      ]
     },
     "execution_count": 3,
     "metadata": {},
     "output_type": "execute_result"
    }
   ],
   "source": [
    "vid_src = article.findAll('iframe')\n",
    "vid_src[0]"
   ]
  },
  {
   "cell_type": "code",
   "execution_count": 4,
   "metadata": {},
   "outputs": [
    {
     "ename": "TypeError",
     "evalue": "list indices must be integers or slices, not str",
     "output_type": "error",
     "traceback": [
      "\u001b[0;31m---------------------------------------------------------------------------\u001b[0m",
      "\u001b[0;31mTypeError\u001b[0m                                 Traceback (most recent call last)",
      "\u001b[0;32m<ipython-input-4-fc3f36ed5c4e>\u001b[0m in \u001b[0;36m<module>\u001b[0;34m()\u001b[0m\n\u001b[0;32m----> 1\u001b[0;31m \u001b[0;32mfor\u001b[0m \u001b[0mvid_src\u001b[0m \u001b[0;32min\u001b[0m \u001b[0marticle\u001b[0m\u001b[0;34m.\u001b[0m\u001b[0mfindAll\u001b[0m\u001b[0;34m(\u001b[0m\u001b[0;34m'iframe'\u001b[0m\u001b[0;34m,\u001b[0m \u001b[0mclass_\u001b[0m\u001b[0;34m=\u001b[0m\u001b[0;34m'youtube-player'\u001b[0m\u001b[0;34m)\u001b[0m\u001b[0;34m[\u001b[0m\u001b[0;34m'src'\u001b[0m\u001b[0;34m]\u001b[0m\u001b[0;34m:\u001b[0m\u001b[0;34m\u001b[0m\u001b[0m\n\u001b[0m\u001b[1;32m      2\u001b[0m     \u001b[0mvid_id\u001b[0m \u001b[0;34m=\u001b[0m \u001b[0mvid_src\u001b[0m\u001b[0;34m.\u001b[0m\u001b[0msplit\u001b[0m\u001b[0;34m(\u001b[0m\u001b[0;34m'/'\u001b[0m\u001b[0;34m)\u001b[0m\u001b[0;34m[\u001b[0m\u001b[0;36m4\u001b[0m\u001b[0;34m]\u001b[0m\u001b[0;34m\u001b[0m\u001b[0m\n\u001b[1;32m      3\u001b[0m     \u001b[0mvid_id\u001b[0m \u001b[0;34m=\u001b[0m \u001b[0mvid_id\u001b[0m\u001b[0;34m.\u001b[0m\u001b[0msplit\u001b[0m\u001b[0;34m(\u001b[0m\u001b[0;34m'?'\u001b[0m\u001b[0;34m)\u001b[0m\u001b[0;34m[\u001b[0m\u001b[0;36m0\u001b[0m\u001b[0;34m]\u001b[0m\u001b[0;34m\u001b[0m\u001b[0m\n\u001b[1;32m      4\u001b[0m     \u001b[0mprint\u001b[0m\u001b[0;34m(\u001b[0m\u001b[0mvid_id\u001b[0m\u001b[0;34m)\u001b[0m\u001b[0;34m\u001b[0m\u001b[0m\n\u001b[1;32m      5\u001b[0m     \u001b[0myt_link\u001b[0m \u001b[0;34m=\u001b[0m \u001b[0;34m'https://www.youtube.com/watch?v={}'\u001b[0m\u001b[0;34m.\u001b[0m\u001b[0mformat\u001b[0m\u001b[0;34m(\u001b[0m\u001b[0mvid_id\u001b[0m\u001b[0;34m)\u001b[0m\u001b[0;34m\u001b[0m\u001b[0m\n",
      "\u001b[0;31mTypeError\u001b[0m: list indices must be integers or slices, not str"
     ]
    }
   ],
   "source": [
    "for vid_src in article.findAll('iframe', class_='youtube-player')['src']:\n",
    "    vid_id = vid_src.split('/')[4]\n",
    "    vid_id = vid_id.split('?')[0]\n",
    "    print(vid_id)\n",
    "    yt_link = 'https://www.youtube.com/watch?v={}'.format(vid_id)\n",
    "    print(yt_link)"
   ]
  },
  {
   "cell_type": "code",
   "execution_count": null,
   "metadata": {},
   "outputs": [],
   "source": []
  },
  {
   "cell_type": "code",
   "execution_count": null,
   "metadata": {},
   "outputs": [],
   "source": []
  },
  {
   "cell_type": "code",
   "execution_count": null,
   "metadata": {},
   "outputs": [],
   "source": []
  },
  {
   "cell_type": "code",
   "execution_count": null,
   "metadata": {},
   "outputs": [],
   "source": []
  },
  {
   "cell_type": "code",
   "execution_count": null,
   "metadata": {},
   "outputs": [],
   "source": []
  },
  {
   "cell_type": "code",
   "execution_count": null,
   "metadata": {},
   "outputs": [],
   "source": []
  }
 ],
 "metadata": {
  "kernelspec": {
   "display_name": "Python 3",
   "language": "python",
   "name": "python3"
  },
  "language_info": {
   "codemirror_mode": {
    "name": "ipython",
    "version": 3
   },
   "file_extension": ".py",
   "mimetype": "text/x-python",
   "name": "python",
   "nbconvert_exporter": "python",
   "pygments_lexer": "ipython3",
   "version": "3.5.3"
  }
 },
 "nbformat": 4,
 "nbformat_minor": 2
}
