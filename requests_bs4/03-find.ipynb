{
 "cells": [
  {
   "cell_type": "code",
   "execution_count": 1,
   "metadata": {},
   "outputs": [],
   "source": [
    "from bs4 import BeautifulSoup\n",
    "import requests"
   ]
  },
  {
   "cell_type": "code",
   "execution_count": 2,
   "metadata": {},
   "outputs": [
    {
     "name": "stdout",
     "output_type": "stream",
     "text": [
      "<article class=\"post-1513 post type-post status-publish format-standard has-post-thumbnail category-development tag-computer-science tag-development-environment tag-mac tag-sublime-text tag-video tag-windows entry\" itemscope=\"\" itemtype=\"http://schema.org/CreativeWork\">\n",
      " <header class=\"entry-header\">\n",
      "  <h2 class=\"entry-title\" itemprop=\"headline\">\n",
      "   <a href=\"http://coreyms.com/development/best-sublime-text-features-and-shortcuts\" rel=\"bookmark\">\n",
      "    Best Sublime Text Features and Shortcuts\n",
      "   </a>\n",
      "  </h2>\n",
      "  <p class=\"entry-meta\">\n",
      "   <time class=\"entry-time\" datetime=\"2018-08-09T16:03:50+00:00\" itemprop=\"datePublished\">\n",
      "    August 9, 2018\n",
      "   </time>\n",
      "   by\n",
      "   <span class=\"entry-author\" itemprop=\"author\" itemscope=\"\" itemtype=\"http://schema.org/Person\">\n",
      "    <a class=\"entry-author-link\" href=\"http://coreyms.com/author/coreymschafer\" itemprop=\"url\" rel=\"author\">\n",
      "     <span class=\"entry-author-name\" itemprop=\"name\">\n",
      "      Corey Schafer\n",
      "     </span>\n",
      "    </a>\n",
      "   </span>\n",
      "   <span class=\"entry-comments-link\">\n",
      "    <a href=\"http://coreyms.com/development/best-sublime-text-features-and-shortcuts#respond\">\n",
      "     <span class=\"dsq-postid\" data-dsqidentifier=\"1513 http://coreyms.com/?p=1513\">\n",
      "      Leave a Comment\n",
      "     </span>\n",
      "    </a>\n",
      "   </span>\n",
      "  </p>\n",
      " </header>\n",
      " <div class=\"entry-content\" itemprop=\"text\">\n",
      "  <p>\n",
      "   In this video, we will be learning about my favorite Sublime Text features and shortcuts for Windows. Knowing your way around your text editor will help you get things done much faster and be more productive. The features in this video have saved me a ton of time over the years. I have two different versions of this video depending on your operating system…\n",
      "  </p>\n",
      "  <h3>\n",
      "   Windows:\n",
      "  </h3>\n",
      "  <p>\n",
      "   <span class=\"embed-youtube\" style=\"text-align:center; display: block;\">\n",
      "    <iframe allowfullscreen=\"true\" class=\"youtube-player\" height=\"360\" src=\"http://www.youtube.com/embed/9FPFogHkgOc?version=3&amp;rel=1&amp;fs=1&amp;autohide=2&amp;showsearch=0&amp;showinfo=1&amp;iv_load_policy=1&amp;wmode=transparent\" style=\"border:0;\" type=\"text/html\" width=\"640\">\n",
      "    </iframe>\n",
      "   </span>\n",
      "  </p>\n",
      "  <h3>\n",
      "   Mac:\n",
      "  </h3>\n",
      "  <p>\n",
      "   <span class=\"embed-youtube\" style=\"text-align:center; display: block;\">\n",
      "    <iframe allowfullscreen=\"true\" class=\"youtube-player\" height=\"360\" src=\"http://www.youtube.com/embed/TB3qztdM7V8?version=3&amp;rel=1&amp;fs=1&amp;autohide=2&amp;showsearch=0&amp;showinfo=1&amp;iv_load_policy=1&amp;wmode=transparent\" style=\"border:0;\" type=\"text/html\" width=\"640\">\n",
      "    </iframe>\n",
      "   </span>\n",
      "  </p>\n",
      " </div>\n",
      " <footer class=\"entry-footer\">\n",
      "  <p class=\"entry-meta\">\n",
      "   <span class=\"entry-categories\">\n",
      "    Filed Under:\n",
      "    <a href=\"http://coreyms.com/category/development\" rel=\"category tag\">\n",
      "     Development\n",
      "    </a>\n",
      "   </span>\n",
      "   <span class=\"entry-tags\">\n",
      "    Tagged With:\n",
      "    <a href=\"http://coreyms.com/tag/computer-science\" rel=\"tag\">\n",
      "     Computer Science\n",
      "    </a>\n",
      "    ,\n",
      "    <a href=\"http://coreyms.com/tag/development-environment\" rel=\"tag\">\n",
      "     Development Environment\n",
      "    </a>\n",
      "    ,\n",
      "    <a href=\"http://coreyms.com/tag/mac\" rel=\"tag\">\n",
      "     Mac\n",
      "    </a>\n",
      "    ,\n",
      "    <a href=\"http://coreyms.com/tag/sublime-text\" rel=\"tag\">\n",
      "     Sublime Text\n",
      "    </a>\n",
      "    ,\n",
      "    <a href=\"http://coreyms.com/tag/video\" rel=\"tag\">\n",
      "     Video\n",
      "    </a>\n",
      "    ,\n",
      "    <a href=\"http://coreyms.com/tag/windows\" rel=\"tag\">\n",
      "     Windows\n",
      "    </a>\n",
      "   </span>\n",
      "  </p>\n",
      " </footer>\n",
      "</article>\n",
      "\n"
     ]
    }
   ],
   "source": [
    "source = requests.get('http://coreyms.com/').text\n",
    "soup = BeautifulSoup(source, 'lxml')\n",
    "article = soup.find('article')\n",
    "print(article.prettify())"
   ]
  },
  {
   "cell_type": "code",
   "execution_count": 3,
   "metadata": {},
   "outputs": [
    {
     "name": "stdout",
     "output_type": "stream",
     "text": [
      "Best Sublime Text Features and Shortcuts\n",
      "August 9, 2018\n"
     ]
    }
   ],
   "source": [
    "headline = article.header.h2.text\n",
    "print(headline)\n",
    "print(article.header.p.time.text)"
   ]
  },
  {
   "cell_type": "code",
   "execution_count": 4,
   "metadata": {},
   "outputs": [],
   "source": [
    "summary = article.find('div', class_='entry-content').p.text"
   ]
  },
  {
   "cell_type": "code",
   "execution_count": 5,
   "metadata": {},
   "outputs": [
    {
     "name": "stdout",
     "output_type": "stream",
     "text": [
      "In this video, we will be learning about my favorite Sublime Text features and shortcuts for Windows. Knowing your way around your text editor will help you get things done much faster and be more productive. The features in this video have saved me a ton of time over the years. I have two different versions of this video depending on your operating system…\n"
     ]
    }
   ],
   "source": [
    "print(summary)"
   ]
  },
  {
   "cell_type": "code",
   "execution_count": 6,
   "metadata": {},
   "outputs": [
    {
     "name": "stdout",
     "output_type": "stream",
     "text": [
      "http://www.youtube.com/embed/9FPFogHkgOc?version=3&rel=1&fs=1&autohide=2&showsearch=0&showinfo=1&iv_load_policy=1&wmode=transparent\n"
     ]
    }
   ],
   "source": [
    "vid_src = article.find('iframe', class_='youtube-player')['src']\n",
    "print(vid_src)"
   ]
  },
  {
   "cell_type": "code",
   "execution_count": 7,
   "metadata": {},
   "outputs": [
    {
     "name": "stdout",
     "output_type": "stream",
     "text": [
      "9FPFogHkgOc\n"
     ]
    }
   ],
   "source": [
    "vid_id = vid_src.split('/')[4]\n",
    "vid_id = vid_id.split('?')[0]\n",
    "print(vid_id)"
   ]
  },
  {
   "cell_type": "code",
   "execution_count": 8,
   "metadata": {},
   "outputs": [],
   "source": [
    "yt_link = 'https://www.youtube.com/watch?v={}'.format(vid_id)"
   ]
  },
  {
   "cell_type": "code",
   "execution_count": 9,
   "metadata": {},
   "outputs": [
    {
     "name": "stdout",
     "output_type": "stream",
     "text": [
      "https://www.youtube.com/watch?v=9FPFogHkgOc\n"
     ]
    }
   ],
   "source": [
    "print(yt_link)"
   ]
  },
  {
   "cell_type": "code",
   "execution_count": null,
   "metadata": {},
   "outputs": [],
   "source": []
  }
 ],
 "metadata": {
  "kernelspec": {
   "display_name": "Python 3",
   "language": "python",
   "name": "python3"
  },
  "language_info": {
   "codemirror_mode": {
    "name": "ipython",
    "version": 3
   },
   "file_extension": ".py",
   "mimetype": "text/x-python",
   "name": "python",
   "nbconvert_exporter": "python",
   "pygments_lexer": "ipython3",
   "version": "3.5.3"
  }
 },
 "nbformat": 4,
 "nbformat_minor": 2
}
