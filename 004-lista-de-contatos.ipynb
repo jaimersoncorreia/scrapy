{
 "cells": [
  {
   "cell_type": "code",
   "execution_count": 1,
   "metadata": {},
   "outputs": [],
   "source": [
    "def criar_contato():\n",
    "    print('Digite as informações do contato ')\n",
    "    nome = input('Nome: ')\n",
    "    email = input('E-mail: ')\n",
    "    telefone = input('Fone: ')\n",
    "    return {'nome': nome, \n",
    "            'email':email, \n",
    "            'telefone':telefone\n",
    "           }"
   ]
  },
  {
   "cell_type": "code",
   "execution_count": 2,
   "metadata": {},
   "outputs": [],
   "source": [
    "def salvar_contato(nome, email, telefone):\n",
    "    arquivo = open('contatos.csv', 'at')\n",
    "    arquivo.write('{},{},{}\\n'.format(nome, email, telefone))\n",
    "    arquivo.flush()\n",
    "    arquivo.close()"
   ]
  },
  {
   "cell_type": "code",
   "execution_count": 5,
   "metadata": {},
   "outputs": [
    {
     "name": "stdout",
     "output_type": "stream",
     "text": [
      "Digite as informações do contato \n",
      "Nome: Jaimerson\n",
      "E-mail: jaimerson@hotmail.com\n",
      "Fone: 99 9999-9999\n"
     ]
    }
   ],
   "source": [
    "info = criar_contato()"
   ]
  },
  {
   "cell_type": "code",
   "execution_count": 7,
   "metadata": {},
   "outputs": [],
   "source": [
    "salvar_contato(info['nome'],info['email'],info['telefone'])"
   ]
  },
  {
   "cell_type": "code",
   "execution_count": 9,
   "metadata": {},
   "outputs": [],
   "source": [
    "salvar_contato(**info)"
   ]
  },
  {
   "cell_type": "code",
   "execution_count": 10,
   "metadata": {},
   "outputs": [
    {
     "name": "stdout",
     "output_type": "stream",
     "text": [
      "Teste1,teste1@teste,00 0000-0000\n",
      "Teste1,teste1@teste,00 0000-0000\n",
      "Teste1,teste1@teste,00 0000-0000\n",
      "Teste1,teste1@teste,00 0000-0000\n",
      "Jaimerson,jaimerson@hotmail.com,99 9999-9999\n",
      "Jaimerson,jaimerson@hotmail.com,99 9999-9999\n",
      "\n"
     ]
    }
   ],
   "source": [
    "teste = open('contatos.csv','rt')\n",
    "print(teste.read())\n",
    "teste.close()"
   ]
  },
  {
   "cell_type": "code",
   "execution_count": null,
   "metadata": {},
   "outputs": [],
   "source": []
  }
 ],
 "metadata": {
  "kernelspec": {
   "display_name": "Python 3",
   "language": "python",
   "name": "python3"
  },
  "language_info": {
   "codemirror_mode": {
    "name": "ipython",
    "version": 3
   },
   "file_extension": ".py",
   "mimetype": "text/x-python",
   "name": "python",
   "nbconvert_exporter": "python",
   "pygments_lexer": "ipython3",
   "version": "3.5.3"
  }
 },
 "nbformat": 4,
 "nbformat_minor": 2
}
